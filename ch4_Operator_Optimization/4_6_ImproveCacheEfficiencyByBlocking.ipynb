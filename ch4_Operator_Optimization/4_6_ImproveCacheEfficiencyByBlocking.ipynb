{
 "cells": [
  {
   "cell_type": "code",
   "execution_count": 1,
   "id": "1bdef0ba",
   "metadata": {},
   "outputs": [
    {
     "name": "stdout",
     "output_type": "stream",
     "text": [
      "successd...\n",
      "\n"
     ]
    }
   ],
   "source": [
    "%matplotlib inline\n",
    "import tvm\n",
    "from tvm import te\n",
    "import numpy as np\n",
    "import d2ltvm\n",
    "\n",
    "target = 'llvm -mcpu=broadwell-avx2'"
   ]
  },
  {
   "cell_type": "code",
   "execution_count": 2,
   "id": "93168ee4",
   "metadata": {
    "scrolled": true
   },
   "outputs": [],
   "source": [
    "sizes = 2 ** np.arange(5, 12, 1)\n",
    "exe_times = [d2ltvm.bench_workload(d2ltvm.np_matmul_timer(n)) for n in sizes]\n",
    "np_gflops = 2 * sizes ** 3 / 1e9 / exe_times"
   ]
  },
  {
   "cell_type": "markdown",
   "id": "789cae0d",
   "metadata": {},
   "source": [
    "# BlockedMatrixMultiplication"
   ]
  },
  {
   "cell_type": "code",
   "execution_count": null,
   "id": "2b8422ca",
   "metadata": {},
   "outputs": [],
   "source": []
  }
 ],
 "metadata": {
  "kernelspec": {
   "display_name": "Python 3 (ipykernel)",
   "language": "python",
   "name": "python3"
  },
  "language_info": {
   "codemirror_mode": {
    "name": "ipython",
    "version": 3
   },
   "file_extension": ".py",
   "mimetype": "text/x-python",
   "name": "python",
   "nbconvert_exporter": "python",
   "pygments_lexer": "ipython3",
   "version": "3.8.0"
  }
 },
 "nbformat": 4,
 "nbformat_minor": 5
}
