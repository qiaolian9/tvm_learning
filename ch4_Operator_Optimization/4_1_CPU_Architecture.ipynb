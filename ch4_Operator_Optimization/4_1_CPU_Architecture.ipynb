{
 "cells": [
  {
   "cell_type": "code",
   "execution_count": 1,
   "id": "f8ed80c8",
   "metadata": {},
   "outputs": [
    {
     "name": "stdout",
     "output_type": "stream",
     "text": [
      "model name\t: Intel(R) Xeon(R) CPU E5-2695 v4 @ 2.10GHz\r\n"
     ]
    }
   ],
   "source": [
    "!cat /proc/cpuinfo | grep \"model name\" | head -1"
   ]
  },
  {
   "cell_type": "markdown",
   "id": "9b9a50f6",
   "metadata": {},
   "source": [
    "# Arithmetic Units "
   ]
  },
  {
   "cell_type": "code",
   "execution_count": 2,
   "id": "003664bc",
   "metadata": {},
   "outputs": [
    {
     "name": "stdout",
     "output_type": "stream",
     "text": [
      "successd...\n",
      "\n"
     ]
    }
   ],
   "source": [
    "import numpy as np\n",
    "import d2ltvm\n",
    "import tvm\n",
    "from tvm import te"
   ]
  },
  {
   "cell_type": "code",
   "execution_count": 3,
   "id": "d62541be",
   "metadata": {},
   "outputs": [
    {
     "name": "stdout",
     "output_type": "stream",
     "text": [
      "4 ms ± 493 µs per loop (mean ± std. dev. of 7 runs, 100 loops each)\n",
      "8.95 ms ± 476 µs per loop (mean ± std. dev. of 7 runs, 100 loops each)\n",
      "1.09 s ± 21.4 ms per loop (mean ± std. dev. of 7 runs, 1 loop each)\n",
      "1.09 s ± 17 ms per loop (mean ± std. dev. of 7 runs, 1 loop each)\n"
     ]
    }
   ],
   "source": [
    "def benchmark(dtype):\n",
    "    x = np.random.normal(size=(1000, 1000)).astype(dtype)\n",
    "    %timeit np.dot(x, x)\n",
    "\n",
    "benchmark('float32')\n",
    "benchmark('float64')\n",
    "\n",
    "benchmark('int32')\n",
    "benchmark('int64')"
   ]
  },
  {
   "cell_type": "code",
   "execution_count": 4,
   "id": "d48d762f",
   "metadata": {},
   "outputs": [
    {
     "name": "stdout",
     "output_type": "stream",
     "text": [
      "1.61 ms ± 27.3 µs per loop (mean ± std. dev. of 7 runs, 1,000 loops each)\n"
     ]
    }
   ],
   "source": [
    "x = np.random.normal(size=(1000, 1000)).astype('float32')\n",
    "%timeit np.exp(x)"
   ]
  },
  {
   "cell_type": "markdown",
   "id": "ffab253c",
   "metadata": {},
   "source": [
    "# Parallel Exection"
   ]
  },
  {
   "cell_type": "code",
   "execution_count": 5,
   "id": "3411e28d",
   "metadata": {},
   "outputs": [
    {
     "name": "stdout",
     "output_type": "stream",
     "text": [
      "CPU MHz:             1200.130\r\n",
      "CPU max MHz:         3300.0000\r\n",
      "CPU min MHz:         1200.0000\r\n"
     ]
    }
   ],
   "source": [
    "!lscpu | grep MHz"
   ]
  },
  {
   "cell_type": "code",
   "execution_count": 28,
   "id": "1dd9c0ee",
   "metadata": {},
   "outputs": [
    {
     "name": "stdout",
     "output_type": "stream",
     "text": [
      "flags\t\t: fpu vme de pse tsc msr pae mce cx8 apic sep mtrr pge mca cmov pat pse36 clflush dts acpi mmx fxsr sse sse2 ss ht tm pbe syscall nx pdpe1gb rdtscp lm constant_tsc arch_perfmon pebs bts rep_good nopl xtopology nonstop_tsc cpuid aperfmperf pni pclmulqdq dtes64 monitor ds_cpl vmx smx est tm2 ssse3 sdbg fma cx16 xtpr pdcm pcid dca sse4_1 sse4_2 x2apic movbe popcnt tsc_deadline_timer aes xsave avx f16c rdrand lahf_lm abm 3dnowprefetch cpuid_fault epb cat_l3 cdp_l3 invpcid_single pti intel_ppin ssbd ibrs ibpb stibp tpr_shadow vnmi flexpriority ept vpid fsgsbase tsc_adjust bmi1 hle avx2 smep bmi2 erms invpcid rtm cqm rdt_a rdseed adx smap intel_pt xsaveopt cqm_llc cqm_occup_llc cqm_mbm_total cqm_mbm_local dtherm ida arat pln pts md_clear flush_l1d\r\n",
      "grep: write error: Broken pipe\r\n",
      "cat: write error: Broken pipe\r\n"
     ]
    }
   ],
   "source": [
    "!cat /proc/cpuinfo | grep \"flags\" | head -1\n",
    "# SIMD"
   ]
  },
  {
   "cell_type": "code",
   "execution_count": 29,
   "id": "efafea15",
   "metadata": {
    "scrolled": false
   },
   "outputs": [
    {
     "name": "stdout",
     "output_type": "stream",
     "text": [
      "36\r\n"
     ]
    }
   ],
   "source": [
    "!cat /proc/cpuinfo | grep \"model name\"  | wc -l\n",
    "# multi-cores"
   ]
  },
  {
   "cell_type": "code",
   "execution_count": 30,
   "id": "a02db169",
   "metadata": {},
   "outputs": [
    {
     "data": {
      "text/plain": [
       "691.1999999999999"
      ]
     },
     "execution_count": 30,
     "metadata": {},
     "output_type": "execute_result"
    }
   ],
   "source": [
    "''' performance\n",
    "    physical_cores * #cycles_per_second * #instructions_per_cycle * #operations_per_instruction\n",
    "    36(multi-cores) * 1.2GHz * 8(SIMD:AVX2 256 / 32) * 2 FMA\n",
    "'''\n",
    "36 * 1.2 * 8 * 2"
   ]
  },
  {
   "cell_type": "code",
   "execution_count": 31,
   "id": "5054a706",
   "metadata": {},
   "outputs": [
    {
     "data": {
      "text/plain": [
       "503.06367183652367"
      ]
     },
     "execution_count": 31,
     "metadata": {},
     "output_type": "execute_result"
    }
   ],
   "source": [
    "x = np.random.normal(size=(1000, 1000)).astype('float32')\n",
    "res = %timeit -o -q np.dot(x, x)\n",
    "2 * 1000 ** 3 / res.average / 1e9"
   ]
  },
  {
   "cell_type": "markdown",
   "id": "9dfa04cf",
   "metadata": {},
   "source": [
    "# Memory Subsystem"
   ]
  },
  {
   "cell_type": "code",
   "execution_count": 32,
   "id": "84bdfdb1",
   "metadata": {},
   "outputs": [
    {
     "name": "stdout",
     "output_type": "stream",
     "text": [
      "MemTotal:       131911492 kB\r\n"
     ]
    }
   ],
   "source": [
    "!cat /proc/meminfo | grep MemTotal"
   ]
  },
  {
   "cell_type": "code",
   "execution_count": 34,
   "id": "5785f13e",
   "metadata": {},
   "outputs": [],
   "source": [
    "# memory bandwidth\n",
    "# eg. 640 * 10e9 ops/sec; memory bandwidth 640 * 10e9 * 4 B/sec"
   ]
  },
  {
   "cell_type": "code",
   "execution_count": 35,
   "id": "ef84fd64",
   "metadata": {},
   "outputs": [
    {
     "name": "stdout",
     "output_type": "stream",
     "text": [
      "L1d cache:           32K\r\n",
      "L1i cache:           32K\r\n",
      "L2 cache:            256K\r\n",
      "L3 cache:            46080K\r\n"
     ]
    }
   ],
   "source": [
    "!lscpu | grep cache"
   ]
  },
  {
   "cell_type": "markdown",
   "id": "010ce1be",
   "metadata": {},
   "source": [
    "# Summary\n",
    "1.CPUs have dedicated units to handle computations on various data types. A CPU’s peak performance is determined by the clock rate, the number of cores, and the instruction sets. \\\n",
    "2.CPUs use multi-level caches to bridge the gap between CPU computational power and main memory bandwidth. \\\n",
    "3.An efficient program should be effectively parallelized and access data with good temporal and spatial localities."
   ]
  }
 ],
 "metadata": {
  "kernelspec": {
   "display_name": "Python 3 (ipykernel)",
   "language": "python",
   "name": "python3"
  },
  "language_info": {
   "codemirror_mode": {
    "name": "ipython",
    "version": 3
   },
   "file_extension": ".py",
   "mimetype": "text/x-python",
   "name": "python",
   "nbconvert_exporter": "python",
   "pygments_lexer": "ipython3",
   "version": "3.8.0"
  }
 },
 "nbformat": 4,
 "nbformat_minor": 5
}
