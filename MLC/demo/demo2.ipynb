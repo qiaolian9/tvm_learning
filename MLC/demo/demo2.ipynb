{
 "cells": [
  {
   "cell_type": "code",
   "execution_count": 1,
   "metadata": {},
   "outputs": [],
   "source": [
    "import MLC.mlc as mlc\n",
    "import torch\n",
    "import torch.nn as nn\n",
    "\n",
    "class Demo(nn.Module):\n",
    "    def __init__(self):\n",
    "        super().__init__()\n",
    "        self.w = nn.Parameter(torch.rand((900, 128)))\n",
    "        self.b = nn.Parameter(torch.rand((128,)))\n",
    "        self.conv2d = nn.Conv2d(1, 1, 3, 1)\n",
    "        self.relu = nn.ReLU()\n",
    "        self.linear = nn.Linear(128, 10)\n",
    "    \n",
    "    def forward(self, x):\n",
    "        x = self.conv2d(x)\n",
    "        x = torch.relu(x)\n",
    "        x = x.view([1, -1])\n",
    "        x = torch.matmul(x, self.w)\n",
    "        x = torch.add(x, self.b)\n",
    "        x = self.relu(x)\n",
    "        x = self.linear(x)\n",
    "        return x"
   ]
  },
  {
   "cell_type": "code",
   "execution_count": 2,
   "metadata": {},
   "outputs": [],
   "source": [
    "DemoRelax = mlc.from_fx(Demo(), [(1, 1, 32, 32)])"
   ]
  },
  {
   "cell_type": "code",
   "execution_count": 3,
   "metadata": {},
   "outputs": [],
   "source": [
    "\n",
    "DemoFused = mlc.FuseDenseAddPass()(DemoRelax)\n",
    "# DemoFused.show()"
   ]
  },
  {
   "cell_type": "code",
   "execution_count": 4,
   "metadata": {},
   "outputs": [],
   "source": [
    "\n",
    "DemoModelTIR = mlc.LowerToTensorIRPass()(DemoFused)\n",
    "# DemoModelTIR.show()"
   ]
  },
  {
   "cell_type": "code",
   "execution_count": 5,
   "metadata": {},
   "outputs": [],
   "source": [
    "from tvm import relax\n",
    "DemoModelFinal = relax.transform.FuseTIR()(DemoModelTIR)\n",
    "# DemoModelFinal.show()"
   ]
  },
  {
   "cell_type": "code",
   "execution_count": 6,
   "metadata": {},
   "outputs": [
    {
     "name": "stdout",
     "output_type": "stream",
     "text": [
      "2023-02-13 22:48:13 [INFO] Logging directory: ./tune_tmp/logs\n",
      "2023-02-13 22:48:22 [INFO] LocalBuilder: max_workers = 36\n",
      "2023-02-13 22:48:24 [INFO] LocalRunner: max_workers = 1\n",
      "2023-02-13 22:48:29 [INFO] [task_scheduler.cc:159] Initializing Task #0: \"main\"\n",
      "2023-02-13 22:48:29 [INFO] [task_scheduler.cc:180] TaskScheduler picks Task #0: \"main\"\n"
     ]
    }
   ],
   "source": [
    "DemoModelTuned = mlc.mlc_tune_tir(DemoModelFinal, target=\"cuda --max_threads_per_block=1024 --max_shared_memory_per_block=49152\", \n",
    "                max_trials_global=1,\n",
    "                num_trials_per_iter=1,compile_tir_target='cuda')"
   ]
  },
  {
   "cell_type": "code",
   "execution_count": null,
   "metadata": {},
   "outputs": [],
   "source": []
  }
 ],
 "metadata": {
  "kernelspec": {
   "display_name": "MLC",
   "language": "python",
   "name": "python3"
  },
  "language_info": {
   "codemirror_mode": {
    "name": "ipython",
    "version": 3
   },
   "file_extension": ".py",
   "mimetype": "text/x-python",
   "name": "python",
   "nbconvert_exporter": "python",
   "pygments_lexer": "ipython3",
   "version": "3.8.13"
  },
  "orig_nbformat": 4,
  "vscode": {
   "interpreter": {
    "hash": "df7b789d6764113f3eb4ff8e192e7912fbf893c46539f75332048503ce5ba603"
   }
  }
 },
 "nbformat": 4,
 "nbformat_minor": 2
}
