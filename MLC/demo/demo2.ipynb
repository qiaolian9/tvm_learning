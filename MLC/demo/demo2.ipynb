{
 "cells": [
  {
   "cell_type": "code",
   "execution_count": 1,
   "metadata": {},
   "outputs": [],
   "source": [
    "import MLC.mlc as mlc\n",
    "import numpy as np\n",
    "import torch\n",
    "import MLC.demo.model.resnet as Resnet\n",
    "from tvm import relax\n",
    "import tvm"
   ]
  },
  {
   "cell_type": "code",
   "execution_count": 2,
   "metadata": {},
   "outputs": [],
   "source": [
    "resnet = Resnet.resnet18()\n",
    "hw = 384\n",
    "x_np = np.random.rand(1, 1, hw, hw).astype('float32')\n",
    "img_torch = torch.from_numpy(x_np).cuda(0)\n",
    "\n",
    "img_nd = tvm.nd.array(x_np, tvm.cuda(0))\n",
    "# x_nd = tvm.nd.array(x_np, tvm.cpu(0))"
   ]
  },
  {
   "cell_type": "code",
   "execution_count": 3,
   "metadata": {},
   "outputs": [],
   "source": [
    "resnet_fx_module = mlc.from_fx(resnet, [(1, 1, 384, 384)])"
   ]
  },
  {
   "cell_type": "code",
   "execution_count": 4,
   "metadata": {},
   "outputs": [],
   "source": [
    "resnet_fused = mlc.FuseDenseAddPass()(resnet_fx_module)"
   ]
  },
  {
   "cell_type": "code",
   "execution_count": 5,
   "metadata": {},
   "outputs": [],
   "source": [
    "lowresnet = mlc.LowerToTensorIRPass()(resnet_fused)"
   ]
  },
  {
   "cell_type": "code",
   "execution_count": 6,
   "metadata": {},
   "outputs": [],
   "source": [
    "resnetFinal = relax.transform.FuseTIR()(lowresnet)"
   ]
  },
  {
   "cell_type": "code",
   "execution_count": 7,
   "metadata": {},
   "outputs": [
    {
     "name": "stdout",
     "output_type": "stream",
     "text": [
      "2023-02-15 22:14:00 [INFO] [task_scheduler.cc:260] Task #0 has finished. Remaining task(s): 0\n"
     ]
    },
    {
     "data": {
      "text/html": [
       "<div>\n",
       "<style scoped>\n",
       "    .dataframe tbody tr th:only-of-type {\n",
       "        vertical-align: middle;\n",
       "    }\n",
       "\n",
       "    .dataframe tbody tr th {\n",
       "        vertical-align: top;\n",
       "    }\n",
       "\n",
       "    .dataframe thead th {\n",
       "        text-align: right;\n",
       "    }\n",
       "</style>\n",
       "<table border=\"1\" class=\"dataframe\">\n",
       "  <thead>\n",
       "    <tr style=\"text-align: right;\">\n",
       "      <th></th>\n",
       "      <th>Name</th>\n",
       "      <th>FLOP</th>\n",
       "      <th>Weight</th>\n",
       "      <th>Speed (GFLOPS)</th>\n",
       "      <th>Latency (us)</th>\n",
       "      <th>Weighted Latency (us)</th>\n",
       "      <th>Trials</th>\n",
       "      <th>Done</th>\n",
       "    </tr>\n",
       "  </thead>\n",
       "  <tbody>\n",
       "    <tr>\n",
       "      <th>0</th>\n",
       "      <td>main</td>\n",
       "      <td>294912</td>\n",
       "      <td>1</td>\n",
       "      <td>91.7766</td>\n",
       "      <td>3.2134</td>\n",
       "      <td>3.2134</td>\n",
       "      <td>1</td>\n",
       "      <td>Y</td>\n",
       "    </tr>\n",
       "  </tbody>\n",
       "</table>\n",
       "</div>"
      ],
      "text/plain": [
       "    Name      FLOP    Weight    Speed (GFLOPS)    Latency (us)   \\\n",
       "0   main    294912         1           91.7766          3.2134    \n",
       "\n",
       "    Weighted Latency (us)    Trials    Done   \n",
       "0                  3.2134         1       Y   "
      ]
     },
     "metadata": {},
     "output_type": "display_data"
    },
    {
     "name": "stdout",
     "output_type": "stream",
     "text": [
      "2023-02-15 22:14:00 [DEBUG] [task_scheduler.cc:318] \n",
      " ID | Name |   FLOP | Weight | Speed (GFLOPS) | Latency (us) | Weighted Latency (us) | Trials | Done \n",
      "-----------------------------------------------------------------------------------------------------\n",
      "  0 | main | 294912 |      1 |        91.7766 |       3.2134 |                3.2134 |      1 |    Y \n",
      "-----------------------------------------------------------------------------------------------------\n",
      "Total trials: 1\n",
      "Total latency (us): 3.21337\n",
      "\n"
     ]
    }
   ],
   "source": [
    "tunedResnet = mlc.mlc_tune_tir(resnetFinal, target=\"cuda --max_threads_per_block=1024 --max_shared_memory_per_block=49152\")\n",
    "# tunedResnet.show()"
   ]
  },
  {
   "cell_type": "code",
   "execution_count": 8,
   "metadata": {},
   "outputs": [],
   "source": [
    "ex = relax.vm.build(tunedResnet, 'cuda')\n",
    "vm = relax.VirtualMachine(ex, tvm.cuda(0))\n",
    "# ex = relax.vm.build(resnetFinal, 'llvm')\n",
    "# vm = relax.VirtualMachine(ex, tvm.cpu(0))"
   ]
  },
  {
   "cell_type": "code",
   "execution_count": 12,
   "metadata": {},
   "outputs": [
    {
     "name": "stdout",
     "output_type": "stream",
     "text": [
      "tvm tuned model's time cost : 2.876463 ms\n"
     ]
    }
   ],
   "source": [
    "n_repeat = 1000\n",
    "f_timer_tuned_resnet = vm.time_evaluator('main', tvm.cuda(0), number=n_repeat)\n",
    "# f_timer_tuned_resnet = vm.time_evaluator('main', tvm.cpu(0), number=n_repeat)\n",
    "print(\"tvm tuned model's time cost : %f ms\" % (f_timer_tuned_resnet(img_nd).mean * 1e3))"
   ]
  },
  {
   "cell_type": "code",
   "execution_count": 13,
   "metadata": {},
   "outputs": [
    {
     "name": "stdout",
     "output_type": "stream",
     "text": [
      "gpu warm up time 58.591934 ms\n",
      "torch model's time cost : 3.868004 ms\n"
     ]
    }
   ],
   "source": [
    "# torch cuda time cost\n",
    "resnet = resnet.cuda(0)\n",
    "resnet.eval()\n",
    "# method 1\n",
    "start, end = torch.cuda.Event(enable_timing=True), torch.cuda.Event(enable_timing=True)\n",
    "\n",
    "start.record()\n",
    "for _ in range(10):\n",
    "    _ = resnet(img_torch)\n",
    "end.record()\n",
    "torch.cuda.synchronize()\n",
    "warn_up_time = start.elapsed_time(end)\n",
    "print('gpu warm up time %f ms' % warn_up_time)\n",
    "\n",
    "timings = []\n",
    "with torch.no_grad():\n",
    "    for i in range(n_repeat):\n",
    "        start.record()\n",
    "        _ = resnet(img_torch)\n",
    "        end.record()\n",
    "        torch.cuda.synchronize()\n",
    "        curr_timing = start.elapsed_time(end)\n",
    "        timings.append(round(curr_timing, 5))\n",
    "\n",
    "\n",
    "print(\"torch model's time cost : %f ms\" % (np.mean(timings)))\n",
    "\n",
    "# method 2\n",
    "# with torch.autograd.profiler.profile(enabled=True, use_cuda=True) as prof:\n",
    "#     for _ in range(n_repeat):\n",
    "#         resnet(img_torch)\n",
    "\n",
    "# print(prof.key_averages().table())"
   ]
  },
  {
   "cell_type": "code",
   "execution_count": 14,
   "metadata": {},
   "outputs": [],
   "source": [
    "res_nd = vm['main'](img_nd)\n",
    "resnet.eval()\n",
    "resnet.cuda()\n",
    "with torch.no_grad():\n",
    "    res_torch = resnet(img_torch)\n",
    "\n",
    "np.testing.assert_allclose(res_nd.numpy(), res_torch.detach().cpu().numpy(), rtol=1e-5)"
   ]
  }
 ],
 "metadata": {
  "kernelspec": {
   "display_name": "MLC",
   "language": "python",
   "name": "python3"
  },
  "language_info": {
   "codemirror_mode": {
    "name": "ipython",
    "version": 3
   },
   "file_extension": ".py",
   "mimetype": "text/x-python",
   "name": "python",
   "nbconvert_exporter": "python",
   "pygments_lexer": "ipython3",
   "version": "3.8.13"
  },
  "orig_nbformat": 4,
  "vscode": {
   "interpreter": {
    "hash": "df7b789d6764113f3eb4ff8e192e7912fbf893c46539f75332048503ce5ba603"
   }
  }
 },
 "nbformat": 4,
 "nbformat_minor": 2
}
