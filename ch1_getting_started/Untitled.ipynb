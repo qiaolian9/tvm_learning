{
 "cells": [
  {
   "cell_type": "code",
   "execution_count": 2,
   "id": "29a4749e",
   "metadata": {},
   "outputs": [],
   "source": [
    "# ch1_getting_started: NN Inference"
   ]
  },
  {
   "cell_type": "code",
   "execution_count": 3,
   "id": "02a1dd4d",
   "metadata": {},
   "outputs": [
    {
     "name": "stdout",
     "output_type": "stream",
     "text": [
      "\"import torch\" success\n"
     ]
    }
   ],
   "source": [
    "# import package\n",
    "import numpy as np\n",
    "import tvm\n",
    "from tvm import relay\n",
    "from PIL import Image\n",
    "try:\n",
    "    import torch\n",
    "    print(\"\\\"import torch\\\" success\")\n",
    "except:\n",
    "    pass"
   ]
  },
  {
   "cell_type": "code",
   "execution_count": null,
   "id": "e5757f17",
   "metadata": {},
   "outputs": [],
   "source": [
    "# Obtaining Pre-trained Models\n"
   ]
  }
 ],
 "metadata": {
  "kernelspec": {
   "display_name": "Python 3 (ipykernel)",
   "language": "python",
   "name": "python3"
  },
  "language_info": {
   "codemirror_mode": {
    "name": "ipython",
    "version": 3
   },
   "file_extension": ".py",
   "mimetype": "text/x-python",
   "name": "python",
   "nbconvert_exporter": "python",
   "pygments_lexer": "ipython3",
   "version": "3.8.0"
  }
 },
 "nbformat": 4,
 "nbformat_minor": 5
}
