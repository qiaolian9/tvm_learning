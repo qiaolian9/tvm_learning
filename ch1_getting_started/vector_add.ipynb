{
 "cells": [
  {
   "cell_type": "code",
   "execution_count": 15,
   "id": "82ac3fe8",
   "metadata": {},
   "outputs": [
    {
     "name": "stdout",
     "output_type": "stream",
     "text": [
      "\"import torch\" success...\n"
     ]
    }
   ],
   "source": [
    "# %load vector_add.py\n",
    "# improt package\n",
    "import tvm\n",
    "from tvm import te # te stands for tensor expression\n",
    "import time\n",
    "import timeit\n",
    "import numpy as np\n",
    "from matplotlib import pyplot as plt\n",
    "from IPython import display\n",
    "try:\n",
    "    import torch \n",
    "    print(\"\\\"import torch\\\" success...\")\n",
    "except:\n",
    "    pass\n"
   ]
  },
  {
   "cell_type": "code",
   "execution_count": 16,
   "id": "48518576",
   "metadata": {},
   "outputs": [],
   "source": [
    "def get_abc(shape, constructor = None):\n",
    "    \"\"\" return random a, b and empty c with the same shape\n",
    "    \"\"\"\n",
    "    np.random.seed(0)\n",
    "    a = np.random.normal(size = shape).astype(np.float32)\n",
    "    b = np.random.normal(size = shape).astype(np.float32)\n",
    "    c = np.empty(shape = shape, dtype = np.float32)\n",
    "    if constructor is not None:\n",
    "        a, b, c = [constructor(i) for i in (a, b, c)]\n",
    "    return a, b, c\n",
    "\n",
    "# implemention with numpy\n",
    "n = 100\n",
    "a, b, c = get_abc(n, None)\n",
    "c = a + b\n",
    "def vector_add_normal(n, a, b):\n",
    "    d = np.empty_like(a)\n",
    "    for i in range(n):\n",
    "        d[i] = a[i] + b[i]\n",
    "    return d\n",
    "d = vector_add_normal(n, a, b)\n",
    "np.testing.assert_equal(c, d)"
   ]
  },
  {
   "cell_type": "code",
   "execution_count": 17,
   "id": "e25dbdf8",
   "metadata": {},
   "outputs": [
    {
     "name": "stdout",
     "output_type": "stream",
     "text": [
      "<class 'tvm.te.tensor.Tensor'> <class 'tvm.te.tensor.Tensor'>\n",
      "float32 [100]\n",
      "<class 'tvm.te.tensor.PlaceholderOp'> <class 'tvm.te.tensor.ComputeOp'>\n",
      "<class 'tvm.te.tensor.Operation'>\n",
      "<class 'tvm.te.schedule.Schedule'> <class 'tvm.te.schedule.Stage'>\n",
      "@main = primfn(a_1: handle, b_1: handle, c_1: handle) -> ()\n",
      "  attr = {\"from_legacy_te_schedule\": True, \"global_symbol\": \"main\", \"tir.noalias\": True}\n",
      "  buffers = {a: Buffer(a_2: Pointer(float32), float32, [100], []),\n",
      "             b: Buffer(b_2: Pointer(float32), float32, [100], []),\n",
      "             c: Buffer(c_2: Pointer(float32), float32, [100], [])}\n",
      "  buffer_map = {a_1: a, b_1: b, c_1: c}\n",
      "  preflattened_buffer_map = {a_1: a_3: Buffer(a_2, float32, [100], []), b_1: b_3: Buffer(b_2, float32, [100], []), c_1: c_3: Buffer(c_2, float32, [100], [])} {\n",
      "  for (i: int32, 0, 100) {\n",
      "    c[i] = (a[i] + b[i])\n",
      "  }\n",
      "}\n",
      "\n",
      "\n"
     ]
    }
   ],
   "source": [
    "# defining the tvm computation\n",
    "def vector_add(n):\n",
    "    \"\"\"TVM expressoion for vector add\"\"\"\n",
    "    A = te.placeholder((n,), name = 'a')\n",
    "    B = te.placeholder((n,), name = 'b')\n",
    "    C = te.compute(A.shape, lambda i : A[i] + B[i], name = 'c')\n",
    "    return A, B, C\n",
    "\n",
    "A, B, C = vector_add(n)\n",
    "print(type(A), type(C))\n",
    "print(A.dtype,  A.shape)\n",
    "print(type(A.op), type(C.op))\n",
    "print(A.op.__class__.__bases__[0])\n",
    "\n",
    "# create a schedule: execute plan\n",
    "s = te.create_schedule(C.op)\n",
    "print(type(s), type(s[C.op]))\n",
    "print(tvm.lower(s, [A, B, C], simple_mode = True))"
   ]
  },
  {
   "cell_type": "code",
   "execution_count": 24,
   "id": "87b120e5",
   "metadata": {},
   "outputs": [
    {
     "name": "stdout",
     "output_type": "stream",
     "text": [
      "<class 'tvm.driver.build_module.OperatorModule'>\n"
     ]
    }
   ],
   "source": [
    "# compilation and execution\n",
    "mod = tvm.build(s, [A, B, C])\n",
    "print(type(mod))\n",
    "\"\"\"tvm.ndarray.NDarray ---> np.ndarray (.asnumpy())\n",
    "\"\"\"\n",
    "a, b, c = get_abc(n, tvm.nd.array)\n",
    "mod(a, b, c)\n",
    "np.testing.assert_equal(a.asnumpy() + b.asnumpy(), c.asnumpy())"
   ]
  }
 ],
 "metadata": {
  "kernelspec": {
   "display_name": "Python 3 (ipykernel)",
   "language": "python",
   "name": "python3"
  },
  "language_info": {
   "codemirror_mode": {
    "name": "ipython",
    "version": 3
   },
   "file_extension": ".py",
   "mimetype": "text/x-python",
   "name": "python",
   "nbconvert_exporter": "python",
   "pygments_lexer": "ipython3",
   "version": "3.8.0"
  }
 },
 "nbformat": 4,
 "nbformat_minor": 5
}
