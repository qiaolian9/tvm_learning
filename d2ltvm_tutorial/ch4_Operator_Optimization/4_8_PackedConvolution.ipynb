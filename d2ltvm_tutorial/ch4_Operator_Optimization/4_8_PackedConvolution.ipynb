{
 "cells": [
  {
   "cell_type": "code",
   "execution_count": 1,
   "id": "43a9bba3",
   "metadata": {},
   "outputs": [
    {
     "name": "stdout",
     "output_type": "stream",
     "text": [
      "successd...\n",
      "\n"
     ]
    }
   ],
   "source": [
    "import tvm\n",
    "from tvm import te\n",
    "import numpy as np\n",
    "import d2ltvm\n",
    "import os\n",
    "\n",
    "target = 'llvm'"
   ]
  },
  {
   "cell_type": "code",
   "execution_count": 6,
   "id": "dbaeaefe",
   "metadata": {},
   "outputs": [
    {
     "name": "stdout",
     "output_type": "stream",
     "text": [
      "x\n",
      " [[[ 0.  1.]\n",
      "  [ 2.  3.]]\n",
      "\n",
      " [[ 4.  5.]\n",
      "  [ 6.  7.]]\n",
      "\n",
      " [[ 8.  9.]\n",
      "  [10. 11.]]\n",
      "\n",
      " [[12. 13.]\n",
      "  [14. 15.]]]\n",
      "y\n",
      " (2, 2, 2, 2) \n",
      " [[[[ 0.  4.]\n",
      "   [ 1.  5.]]\n",
      "\n",
      "  [[ 2.  6.]\n",
      "   [ 3.  7.]]]\n",
      "\n",
      "\n",
      " [[[ 8. 12.]\n",
      "   [ 9. 13.]]\n",
      "\n",
      "  [[10. 14.]\n",
      "   [11. 15.]]]]\n"
     ]
    }
   ],
   "source": [
    "c, n, tc = 4, 2, 2\n",
    "x = np.arange(c * n * n).reshape((c, n, n)).astype('float32')\n",
    "print('x\\n',x)\n",
    "y = x.reshape(c // tc, n, n, tc).transpose(0, 2, 3, 1)\n",
    "print('y\\n',y.shape,'\\n', y)"
   ]
  },
  {
   "cell_type": "code",
   "execution_count": 4,
   "id": "39579b7b",
   "metadata": {},
   "outputs": [],
   "source": [
    "def conv_pack(oc, ic, nh, nw, kh, kw, ph, pw, toc, tic):\n",
    "    \"\"\" Pack data and weight for convolution\n",
    "        oc, ic : output and input channels\n",
    "        nh, nw : input width and height\n",
    "        kh, kw : kernel width and height\n",
    "        ph, pw : height and width padding\n",
    "        toc, tic : the tiling sizes of the output and input channels\n",
    "    \"\"\"\n",
    "    X = te.placeholder(shape=(ic, nh, nw), name='X')\n",
    "    K = te.placeholder(shape=(oc, ic, kh, kw), name='K')\n",
    "    PaddedX = d2ltvm.padding(X, ph, pw) if ph * pw != 0 else X\n",
    "    #Packed X\n",
    "    assert ic % tic == 0 and oc % toc == 0\n",
    "    PackedX = te.compute((ic // tic, nh, nw, tic), lambda ic_out, x, y, ic_in: PaddedX[ic_out * tic + ic_in, x, y], name='PackedX')\n",
    "    PackedK = te.compute((oc // toc, ic // tic, kh, kw, tic, toc), \n",
    "                         lambda oc_out, ic_out, x, y, ic_in, oc_in: K[oc_out * toc + oc_in, ic_out * tic + ic_in, x, y], name='PackedK')\n",
    "    \n",
    "    return X, K, PaddedX, PackedX, PackedK"
   ]
  },
  {
   "cell_type": "code",
   "execution_count": 7,
   "id": "e7334d3a",
   "metadata": {},
   "outputs": [],
   "source": [
    "X, _, _, PackedX, _ = conv_pack(c, c, n, n, 1, 1, 0, 0, tc, tc)\n",
    "mod = tvm.build(te.create_schedule(PackedX.op), [X, PackedX], target)\n",
    "packed_x = tvm.nd.array(np.empty((c // tc, n, n, tc), dtype='float32'))\n",
    "mod(tvm.nd.array(x), packed_x)\n",
    "np.testing.assert_equal(packed_x.asnumpy(), y)"
   ]
  },
  {
   "cell_type": "code",
   "execution_count": null,
   "id": "213d0ed1",
   "metadata": {},
   "outputs": [],
   "source": []
  }
 ],
 "metadata": {
  "kernelspec": {
   "display_name": "Python 3 (ipykernel)",
   "language": "python",
   "name": "python3"
  },
  "language_info": {
   "codemirror_mode": {
    "name": "ipython",
    "version": 3
   },
   "file_extension": ".py",
   "mimetype": "text/x-python",
   "name": "python",
   "nbconvert_exporter": "python",
   "pygments_lexer": "ipython3",
   "version": "3.8.0"
  }
 },
 "nbformat": 4,
 "nbformat_minor": 5
}
