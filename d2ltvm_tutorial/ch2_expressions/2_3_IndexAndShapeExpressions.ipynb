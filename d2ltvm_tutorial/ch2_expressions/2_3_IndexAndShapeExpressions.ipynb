{
 "cells": [
  {
   "cell_type": "markdown",
   "id": "25151172",
   "metadata": {},
   "source": [
    "\n",
    "# Matrix Transpose"
   ]
  },
  {
   "cell_type": "code",
   "execution_count": 1,
   "id": "59052fa1",
   "metadata": {},
   "outputs": [
    {
     "name": "stdout",
     "output_type": "stream",
     "text": [
      "successd...\n",
      "\n"
     ]
    }
   ],
   "source": [
    "import d2ltvm\n",
    "import tvm\n",
    "from tvm import te\n",
    "import numpy as np"
   ]
  },
  {
   "cell_type": "code",
   "execution_count": 38,
   "id": "9cb98b89",
   "metadata": {},
   "outputs": [],
   "source": [
    "dtype = 'float32'\n",
    "n = te.var(name='n')\n",
    "m = te.var(name='m')\n",
    "A = te.placeholder(shape=(n,m), name='a', dtype=dtype)\n",
    "B = te.compute((m,n), lambda i, j: A[j][i], name='b')\n",
    "s = te.create_schedule(B.op)"
   ]
  },
  {
   "cell_type": "code",
   "execution_count": 40,
   "id": "4bf1ecae",
   "metadata": {},
   "outputs": [
    {
     "data": {
      "text/html": [
       "<div class=\"highlight\" style=\"background: \"><pre style=\"line-height: 125%;\"><span></span><span style=\"color: #007979; font-style: italic\"># from tvm.script import tir as T</span>\n",
       "<span style=\"color: #AA22FF\">@tvm</span><span style=\"color: #AA22FF; font-weight: bold\">.</span>script<span style=\"color: #AA22FF; font-weight: bold\">.</span>ir_module\n",
       "<span style=\"color: #008000; font-weight: bold\">class</span> <span style=\"color: #0000FF; font-weight: bold\">Module</span>:\n",
       "    <span style=\"color: #AA22FF\">@T</span><span style=\"color: #AA22FF; font-weight: bold\">.</span>prim_func\n",
       "    <span style=\"color: #008000; font-weight: bold\">def</span> <span style=\"color: #0000FF\">main</span>(a: T<span style=\"color: #AA22FF; font-weight: bold\">.</span>handle, b: T<span style=\"color: #AA22FF; font-weight: bold\">.</span>handle) <span style=\"color: #AA22FF; font-weight: bold\">-&gt;</span> <span style=\"color: #008000; font-weight: bold\">None</span>:\n",
       "        <span style=\"color: #007979; font-style: italic\"># function attr dict</span>\n",
       "        T<span style=\"color: #AA22FF; font-weight: bold\">.</span>func_attr({<span style=\"color: #BA2121\">&quot;from_legacy_te_schedule&quot;</span>: <span style=\"color: #008000; font-weight: bold\">True</span>, <span style=\"color: #BA2121\">&quot;global_symbol&quot;</span>: <span style=\"color: #BA2121\">&quot;main&quot;</span>, <span style=\"color: #BA2121\">&quot;tir.noalias&quot;</span>: <span style=\"color: #008000; font-weight: bold\">True</span>})\n",
       "        m <span style=\"color: #AA22FF; font-weight: bold\">=</span> T<span style=\"color: #AA22FF; font-weight: bold\">.</span>var(<span style=\"color: #BA2121\">&quot;int32&quot;</span>)\n",
       "        n <span style=\"color: #AA22FF; font-weight: bold\">=</span> T<span style=\"color: #AA22FF; font-weight: bold\">.</span>var(<span style=\"color: #BA2121\">&quot;int32&quot;</span>)\n",
       "        stride <span style=\"color: #AA22FF; font-weight: bold\">=</span> T<span style=\"color: #AA22FF; font-weight: bold\">.</span>var(<span style=\"color: #BA2121\">&quot;int32&quot;</span>)\n",
       "        stride_1 <span style=\"color: #AA22FF; font-weight: bold\">=</span> T<span style=\"color: #AA22FF; font-weight: bold\">.</span>var(<span style=\"color: #BA2121\">&quot;int32&quot;</span>)\n",
       "        stride_2 <span style=\"color: #AA22FF; font-weight: bold\">=</span> T<span style=\"color: #AA22FF; font-weight: bold\">.</span>var(<span style=\"color: #BA2121\">&quot;int32&quot;</span>)\n",
       "        stride_3 <span style=\"color: #AA22FF; font-weight: bold\">=</span> T<span style=\"color: #AA22FF; font-weight: bold\">.</span>var(<span style=\"color: #BA2121\">&quot;int32&quot;</span>)\n",
       "        a_1 <span style=\"color: #AA22FF; font-weight: bold\">=</span> T<span style=\"color: #AA22FF; font-weight: bold\">.</span>match_buffer(a, [stride <span style=\"color: #AA22FF; font-weight: bold\">*</span> n], dtype<span style=\"color: #AA22FF; font-weight: bold\">=</span><span style=\"color: #BA2121\">&quot;float32&quot;</span>, type<span style=\"color: #AA22FF; font-weight: bold\">=</span><span style=\"color: #BA2121\">&quot;auto&quot;</span>)\n",
       "        b_1 <span style=\"color: #AA22FF; font-weight: bold\">=</span> T<span style=\"color: #AA22FF; font-weight: bold\">.</span>match_buffer(b, [stride_1 <span style=\"color: #AA22FF; font-weight: bold\">*</span> m], dtype<span style=\"color: #AA22FF; font-weight: bold\">=</span><span style=\"color: #BA2121\">&quot;float32&quot;</span>, type<span style=\"color: #AA22FF; font-weight: bold\">=</span><span style=\"color: #BA2121\">&quot;auto&quot;</span>)\n",
       "        T<span style=\"color: #AA22FF; font-weight: bold\">.</span>preflattened_buffer(a_1, [n, m], dtype<span style=\"color: #AA22FF; font-weight: bold\">=</span><span style=\"color: #BA2121\">&quot;float32&quot;</span>, data<span style=\"color: #AA22FF; font-weight: bold\">=</span>a_1<span style=\"color: #AA22FF; font-weight: bold\">.</span>data, strides<span style=\"color: #AA22FF; font-weight: bold\">=</span>[stride, stride_2], type<span style=\"color: #AA22FF; font-weight: bold\">=</span><span style=\"color: #BA2121\">&quot;auto&quot;</span>)\n",
       "        T<span style=\"color: #AA22FF; font-weight: bold\">.</span>preflattened_buffer(b_1, [m, n], dtype<span style=\"color: #AA22FF; font-weight: bold\">=</span><span style=\"color: #BA2121\">&quot;float32&quot;</span>, data<span style=\"color: #AA22FF; font-weight: bold\">=</span>b_1<span style=\"color: #AA22FF; font-weight: bold\">.</span>data, strides<span style=\"color: #AA22FF; font-weight: bold\">=</span>[stride_1, stride_3], type<span style=\"color: #AA22FF; font-weight: bold\">=</span><span style=\"color: #BA2121\">&quot;auto&quot;</span>)\n",
       "        <span style=\"color: #007979; font-style: italic\"># body</span>\n",
       "        <span style=\"color: #008000; font-weight: bold\">for</span> i, j <span style=\"color: #008000; font-weight: bold\">in</span> T<span style=\"color: #AA22FF; font-weight: bold\">.</span>grid(m, n):\n",
       "            b_1[i <span style=\"color: #AA22FF; font-weight: bold\">*</span> stride_1 <span style=\"color: #AA22FF; font-weight: bold\">+</span> j <span style=\"color: #AA22FF; font-weight: bold\">*</span> stride_3] <span style=\"color: #AA22FF; font-weight: bold\">=</span> a_1[j <span style=\"color: #AA22FF; font-weight: bold\">*</span> stride <span style=\"color: #AA22FF; font-weight: bold\">+</span> i <span style=\"color: #AA22FF; font-weight: bold\">*</span> stride_2]\n",
       "    \n",
       "</pre></div>\n"
      ],
      "text/plain": [
       "<IPython.core.display.HTML object>"
      ]
     },
     "metadata": {},
     "output_type": "display_data"
    },
    {
     "name": "stdout",
     "output_type": "stream",
     "text": [
      "None\n"
     ]
    }
   ],
   "source": [
    "\n",
    "print(tvm.lower(s, [A, B]).show())"
   ]
  },
  {
   "cell_type": "code",
   "execution_count": 41,
   "id": "ffafc4bd",
   "metadata": {},
   "outputs": [
    {
     "name": "stdout",
     "output_type": "stream",
     "text": [
      "[[ 0.  1.  2.  3.]\n",
      " [ 4.  5.  6.  7.]\n",
      " [ 8.  9. 10. 11.]]\n",
      "[[ 0.  4.  8.]\n",
      " [ 1.  5.  9.]\n",
      " [ 2.  6. 10.]\n",
      " [ 3.  7. 11.]]\n"
     ]
    }
   ],
   "source": [
    "def test_matrix_transpose(mod, shape, dtype):\n",
    "    a = np.arange(np.prod(shape)).reshape(shape).astype(dtype)\n",
    "    b = np.empty(shape[::-1]).astype(dtype)\n",
    "    a, b = tvm.nd.array(a), tvm.nd.array(b)\n",
    "    mod(a, b)\n",
    "    return a, b\n",
    "    \n",
    "mod = tvm.build(s, [A, B])\n",
    "shape = (3,4)\n",
    "a, b = test_matrix_transpose(mod, shape, dtype)\n",
    "print(a)\n",
    "print(b)"
   ]
  },
  {
   "cell_type": "markdown",
   "id": "1f27b086",
   "metadata": {},
   "source": [
    "# Reshaping"
   ]
  },
  {
   "cell_type": "code",
   "execution_count": 46,
   "id": "9441a57c",
   "metadata": {},
   "outputs": [
    {
     "data": {
      "text/html": [
       "<div class=\"highlight\" style=\"background: \"><pre style=\"line-height: 125%;\"><span></span><span style=\"color: #007979; font-style: italic\"># from tvm.script import tir as T</span>\n",
       "<span style=\"color: #AA22FF\">@tvm</span><span style=\"color: #AA22FF; font-weight: bold\">.</span>script<span style=\"color: #AA22FF; font-weight: bold\">.</span>ir_module\n",
       "<span style=\"color: #008000; font-weight: bold\">class</span> <span style=\"color: #0000FF; font-weight: bold\">Module</span>:\n",
       "    <span style=\"color: #AA22FF\">@T</span><span style=\"color: #AA22FF; font-weight: bold\">.</span>prim_func\n",
       "    <span style=\"color: #008000; font-weight: bold\">def</span> <span style=\"color: #0000FF\">main</span>(a: T<span style=\"color: #AA22FF; font-weight: bold\">.</span>handle, b: T<span style=\"color: #AA22FF; font-weight: bold\">.</span>handle) <span style=\"color: #AA22FF; font-weight: bold\">-&gt;</span> <span style=\"color: #008000; font-weight: bold\">None</span>:\n",
       "        <span style=\"color: #007979; font-style: italic\"># function attr dict</span>\n",
       "        T<span style=\"color: #AA22FF; font-weight: bold\">.</span>func_attr({<span style=\"color: #BA2121\">&quot;from_legacy_te_schedule&quot;</span>: <span style=\"color: #008000; font-weight: bold\">True</span>, <span style=\"color: #BA2121\">&quot;global_symbol&quot;</span>: <span style=\"color: #BA2121\">&quot;main&quot;</span>, <span style=\"color: #BA2121\">&quot;tir.noalias&quot;</span>: <span style=\"color: #008000; font-weight: bold\">True</span>})\n",
       "        m <span style=\"color: #AA22FF; font-weight: bold\">=</span> T<span style=\"color: #AA22FF; font-weight: bold\">.</span>var(<span style=\"color: #BA2121\">&quot;int32&quot;</span>)\n",
       "        n <span style=\"color: #AA22FF; font-weight: bold\">=</span> T<span style=\"color: #AA22FF; font-weight: bold\">.</span>var(<span style=\"color: #BA2121\">&quot;int32&quot;</span>)\n",
       "        stride <span style=\"color: #AA22FF; font-weight: bold\">=</span> T<span style=\"color: #AA22FF; font-weight: bold\">.</span>var(<span style=\"color: #BA2121\">&quot;int32&quot;</span>)\n",
       "        stride_1 <span style=\"color: #AA22FF; font-weight: bold\">=</span> T<span style=\"color: #AA22FF; font-weight: bold\">.</span>var(<span style=\"color: #BA2121\">&quot;int32&quot;</span>)\n",
       "        a_1 <span style=\"color: #AA22FF; font-weight: bold\">=</span> T<span style=\"color: #AA22FF; font-weight: bold\">.</span>match_buffer(a, [stride <span style=\"color: #AA22FF; font-weight: bold\">*</span> n], dtype<span style=\"color: #AA22FF; font-weight: bold\">=</span><span style=\"color: #BA2121\">&quot;float32&quot;</span>, type<span style=\"color: #AA22FF; font-weight: bold\">=</span><span style=\"color: #BA2121\">&quot;auto&quot;</span>)\n",
       "        b_1 <span style=\"color: #AA22FF; font-weight: bold\">=</span> T<span style=\"color: #AA22FF; font-weight: bold\">.</span>match_buffer(b, [m <span style=\"color: #AA22FF; font-weight: bold\">*</span> n], dtype<span style=\"color: #AA22FF; font-weight: bold\">=</span><span style=\"color: #BA2121\">&quot;float32&quot;</span>)\n",
       "        T<span style=\"color: #AA22FF; font-weight: bold\">.</span>preflattened_buffer(a_1, [n, m], dtype<span style=\"color: #AA22FF; font-weight: bold\">=</span><span style=\"color: #BA2121\">&quot;float32&quot;</span>, data<span style=\"color: #AA22FF; font-weight: bold\">=</span>a_1<span style=\"color: #AA22FF; font-weight: bold\">.</span>data, strides<span style=\"color: #AA22FF; font-weight: bold\">=</span>[stride, stride_1], type<span style=\"color: #AA22FF; font-weight: bold\">=</span><span style=\"color: #BA2121\">&quot;auto&quot;</span>)\n",
       "        T<span style=\"color: #AA22FF; font-weight: bold\">.</span>preflattened_buffer(b_1, [m <span style=\"color: #AA22FF; font-weight: bold\">*</span> n], dtype<span style=\"color: #AA22FF; font-weight: bold\">=</span><span style=\"color: #BA2121\">&quot;float32&quot;</span>, data<span style=\"color: #AA22FF; font-weight: bold\">=</span>b_1<span style=\"color: #AA22FF; font-weight: bold\">.</span>data)\n",
       "        <span style=\"color: #007979; font-style: italic\"># body</span>\n",
       "        <span style=\"color: #008000; font-weight: bold\">for</span> i <span style=\"color: #008000; font-weight: bold\">in</span> T<span style=\"color: #AA22FF; font-weight: bold\">.</span>serial(m <span style=\"color: #AA22FF; font-weight: bold\">*</span> n):\n",
       "            b_1[i] <span style=\"color: #AA22FF; font-weight: bold\">=</span> a_1[i <span style=\"color: #AA22FF; font-weight: bold\">//</span> m <span style=\"color: #AA22FF; font-weight: bold\">*</span> stride <span style=\"color: #AA22FF; font-weight: bold\">+</span> i <span style=\"color: #AA22FF; font-weight: bold\">%</span> m <span style=\"color: #AA22FF; font-weight: bold\">*</span> stride_1]\n",
       "    \n",
       "</pre></div>\n"
      ],
      "text/plain": [
       "<IPython.core.display.HTML object>"
      ]
     },
     "metadata": {},
     "output_type": "display_data"
    },
    {
     "name": "stdout",
     "output_type": "stream",
     "text": [
      "None\n"
     ]
    }
   ],
   "source": [
    "B = te.compute((m * n,), lambda i: A[i // m, i % m], name='b')\n",
    "s = te.create_schedule(B.op)\n",
    "print(tvm.lower(s, [A,B], simple_mode=True).show())"
   ]
  },
  {
   "cell_type": "code",
   "execution_count": 78,
   "id": "4e252765",
   "metadata": {},
   "outputs": [
    {
     "name": "stdout",
     "output_type": "stream",
     "text": [
      "@main = primfn(a_1: handle, b_1: handle) -> ()\n",
      "  attr = {\"from_legacy_te_schedule\": True, \"global_symbol\": \"main\", \"tir.noalias\": True}\n",
      "  buffers = {a: Buffer(a_2: Pointer(float32), float32, [(stride: int32*n: int32)], [], type=\"auto\"),\n",
      "             b: Buffer(b_2: Pointer(float32), float32, [(stride_1: int32*p: int32)], [], type=\"auto\")}\n",
      "  buffer_map = {a_1: a, b_1: b}\n",
      "  preflattened_buffer_map = {a_1: a_3: Buffer(a_2, float32, [n, m: int32], [stride, stride_2: int32], type=\"auto\"), b_1: b_3: Buffer(b_2, float32, [p, q: int32], [stride_1, stride_3: int32], type=\"auto\")} {\n",
      "  for (i: int32, 0, p) {\n",
      "    for (j: int32, 0, q) {\n",
      "      b[((i*stride_1) + (j*stride_3))] = a[((floordiv(((i*q) + j), m)*stride) + (floormod(((i*q) + j), m)*stride_2))]\n",
      "    }\n",
      "  }\n",
      "}\n",
      "\n",
      "\n"
     ]
    }
   ],
   "source": [
    "# (n,m) ---> (p,q)\n",
    "p = te.var(name='p')\n",
    "q = te.var(name='q')\n",
    "B = te.compute((p,q), lambda i, j: A[((i * q) + j) // m, ((i * q) + j) % m], name='b')\n",
    "s = te.create_schedule(B.op)\n",
    "print(tvm.lower(s, [A, B], simple_mode=True))\n"
   ]
  },
  {
   "cell_type": "code",
   "execution_count": 83,
   "id": "ba379154",
   "metadata": {},
   "outputs": [
    {
     "name": "stdout",
     "output_type": "stream",
     "text": [
      "[[ 0.  1.  2.  3.]\n",
      " [ 4.  5.  6.  7.]\n",
      " [ 8.  9. 10. 11.]]\n",
      "[[ 0.  1.  2.  3.  4.  5.  6.  7.  8.  9. 10. 11.]]\n"
     ]
    }
   ],
   "source": [
    "# te.var只在定义op算子是出现，编译好的mod输入的是固定的数值，由build参数决定\n",
    "mod = tvm.build(s, [A, B, p, q])\n",
    "bshape = (1, 12)\n",
    "b = np.empty(bshape).astype(dtype)\n",
    "b = tvm.nd.array(b)\n",
    "mod(a, b, *bshape)\n",
    "print(a)\n",
    "print(b)"
   ]
  },
  {
   "cell_type": "markdown",
   "id": "5dd1d3e0",
   "metadata": {},
   "source": [
    "# Slicing"
   ]
  },
  {
   "cell_type": "code",
   "execution_count": 105,
   "id": "b3379f30",
   "metadata": {},
   "outputs": [],
   "source": [
    "def ceil(a, b):\n",
    "    return -1 * (-a // b)"
   ]
  },
  {
   "cell_type": "code",
   "execution_count": 113,
   "id": "d93a34ab",
   "metadata": {},
   "outputs": [
    {
     "name": "stdout",
     "output_type": "stream",
     "text": [
      "[[ 5.  7.]\n",
      " [ 9. 11.]]\n",
      "[[ 5.  7.]\n",
      " [ 9. 11.]]\n"
     ]
    }
   ],
   "source": [
    "# A[bi::si,bj::sj]\n",
    "bi, bj, si, sj = [te.var(name) for name in ['bi', 'bj', 'si', 'sj']]\n",
    "B = te.compute((ceil((n - bi), si), ceil((m - bj), sj)), lambda i, j: A[i * si + bi, j * sj + bj], name='b')\n",
    "s = te.create_schedule(B.op)\n",
    "mod = tvm.build(s, [A, B, bi, si, bj, sj])\n",
    "\n",
    "b = tvm.nd.array(np.empty((2, 2), dtype='float32'))\n",
    "print(a.asnumpy()[1::1,1::2])\n",
    "print(b)"
   ]
  },
  {
   "cell_type": "markdown",
   "id": "1fca659b",
   "metadata": {},
   "source": [
    "# Summary\n",
    "1.Both shape dimensions and indices can be expressions with variables\n",
    "\n",
    "2.If a variable doesn’t only appear in the shape tuple, we need to pass it as an argument when compiling"
   ]
  }
 ],
 "metadata": {
  "kernelspec": {
   "display_name": "Python 3 (ipykernel)",
   "language": "python",
   "name": "python3"
  },
  "language_info": {
   "codemirror_mode": {
    "name": "ipython",
    "version": 3
   },
   "file_extension": ".py",
   "mimetype": "text/x-python",
   "name": "python",
   "nbconvert_exporter": "python",
   "pygments_lexer": "ipython3",
   "version": "3.8.0"
  }
 },
 "nbformat": 4,
 "nbformat_minor": 5
}
