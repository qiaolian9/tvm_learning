{
 "cells": [
  {
   "cell_type": "markdown",
   "id": "6093d71e",
   "metadata": {},
   "source": [
    "# True Value Testing"
   ]
  },
  {
   "cell_type": "code",
   "execution_count": 1,
   "id": "583ed287",
   "metadata": {},
   "outputs": [
    {
     "name": "stdout",
     "output_type": "stream",
     "text": [
      "successd...\n",
      "\n"
     ]
    }
   ],
   "source": [
    "import numpy as np\n",
    "import tvm\n",
    "from tvm import te\n",
    "import d2ltvm"
   ]
  },
  {
   "cell_type": "code",
   "execution_count": 22,
   "id": "00615a39",
   "metadata": {},
   "outputs": [
    {
     "data": {
      "text/plain": [
       "array([[0., 0., 0., 0., 0., 0.],\n",
       "       [0., 1., 1., 1., 1., 0.],\n",
       "       [0., 1., 1., 1., 1., 0.],\n",
       "       [0., 1., 1., 1., 1., 0.],\n",
       "       [0., 0., 0., 0., 0., 0.]], dtype=float32)"
      ]
     },
     "execution_count": 22,
     "metadata": {},
     "output_type": "execute_result"
    }
   ],
   "source": [
    "shape = (3,4)\n",
    "padding = 1\n",
    "dtype = 'float32'\n",
    "a = np.ones(shape=shape, dtype=dtype)\n",
    "b = np.zeros([i + 2*padding for i in shape], dtype=dtype)\n",
    "b[padding:-padding, padding:-padding] = a\n",
    "b"
   ]
  },
  {
   "cell_type": "code",
   "execution_count": 31,
   "id": "0076377f",
   "metadata": {},
   "outputs": [
    {
     "data": {
      "text/html": [
       "<div class=\"highlight\" style=\"background: \"><pre style=\"line-height: 125%;\"><span></span><span style=\"color: #007979; font-style: italic\"># from tvm.script import tir as T</span>\n",
       "<span style=\"color: #AA22FF\">@tvm</span><span style=\"color: #AA22FF; font-weight: bold\">.</span>script<span style=\"color: #AA22FF; font-weight: bold\">.</span>ir_module\n",
       "<span style=\"color: #008000; font-weight: bold\">class</span> <span style=\"color: #0000FF; font-weight: bold\">Module</span>:\n",
       "    <span style=\"color: #AA22FF\">@T</span><span style=\"color: #AA22FF; font-weight: bold\">.</span>prim_func\n",
       "    <span style=\"color: #008000; font-weight: bold\">def</span> <span style=\"color: #0000FF\">main</span>(a: T<span style=\"color: #AA22FF; font-weight: bold\">.</span>handle, compute: T<span style=\"color: #AA22FF; font-weight: bold\">.</span>handle) <span style=\"color: #AA22FF; font-weight: bold\">-&gt;</span> <span style=\"color: #008000; font-weight: bold\">None</span>:\n",
       "        <span style=\"color: #007979; font-style: italic\"># function attr dict</span>\n",
       "        T<span style=\"color: #AA22FF; font-weight: bold\">.</span>func_attr({<span style=\"color: #BA2121\">&quot;from_legacy_te_schedule&quot;</span>: <span style=\"color: #008000; font-weight: bold\">True</span>, <span style=\"color: #BA2121\">&quot;global_symbol&quot;</span>: <span style=\"color: #BA2121\">&quot;main&quot;</span>, <span style=\"color: #BA2121\">&quot;tir.noalias&quot;</span>: <span style=\"color: #008000; font-weight: bold\">True</span>})\n",
       "        m <span style=\"color: #AA22FF; font-weight: bold\">=</span> T<span style=\"color: #AA22FF; font-weight: bold\">.</span>var(<span style=\"color: #BA2121\">&quot;int32&quot;</span>)\n",
       "        n <span style=\"color: #AA22FF; font-weight: bold\">=</span> T<span style=\"color: #AA22FF; font-weight: bold\">.</span>var(<span style=\"color: #BA2121\">&quot;int32&quot;</span>)\n",
       "        p <span style=\"color: #AA22FF; font-weight: bold\">=</span> T<span style=\"color: #AA22FF; font-weight: bold\">.</span>var(<span style=\"color: #BA2121\">&quot;int32&quot;</span>)\n",
       "        stride <span style=\"color: #AA22FF; font-weight: bold\">=</span> T<span style=\"color: #AA22FF; font-weight: bold\">.</span>var(<span style=\"color: #BA2121\">&quot;int32&quot;</span>)\n",
       "        stride_1 <span style=\"color: #AA22FF; font-weight: bold\">=</span> T<span style=\"color: #AA22FF; font-weight: bold\">.</span>var(<span style=\"color: #BA2121\">&quot;int32&quot;</span>)\n",
       "        a_1 <span style=\"color: #AA22FF; font-weight: bold\">=</span> T<span style=\"color: #AA22FF; font-weight: bold\">.</span>match_buffer(a, [stride <span style=\"color: #AA22FF; font-weight: bold\">*</span> n], dtype<span style=\"color: #AA22FF; font-weight: bold\">=</span><span style=\"color: #BA2121\">&quot;float32&quot;</span>, type<span style=\"color: #AA22FF; font-weight: bold\">=</span><span style=\"color: #BA2121\">&quot;auto&quot;</span>)\n",
       "        compute_1 <span style=\"color: #AA22FF; font-weight: bold\">=</span> T<span style=\"color: #AA22FF; font-weight: bold\">.</span>match_buffer(compute, [(n <span style=\"color: #AA22FF; font-weight: bold\">+</span> <span style=\"color: #008000\">2</span> <span style=\"color: #AA22FF; font-weight: bold\">*</span> p) <span style=\"color: #AA22FF; font-weight: bold\">*</span> (m <span style=\"color: #AA22FF; font-weight: bold\">+</span> <span style=\"color: #008000\">2</span> <span style=\"color: #AA22FF; font-weight: bold\">*</span> p)], dtype<span style=\"color: #AA22FF; font-weight: bold\">=</span><span style=\"color: #BA2121\">&quot;float32&quot;</span>)\n",
       "        T<span style=\"color: #AA22FF; font-weight: bold\">.</span>preflattened_buffer(a_1, [n, m], dtype<span style=\"color: #AA22FF; font-weight: bold\">=</span><span style=\"color: #BA2121\">&quot;float32&quot;</span>, data<span style=\"color: #AA22FF; font-weight: bold\">=</span>a_1<span style=\"color: #AA22FF; font-weight: bold\">.</span>data, strides<span style=\"color: #AA22FF; font-weight: bold\">=</span>[stride, stride_1], type<span style=\"color: #AA22FF; font-weight: bold\">=</span><span style=\"color: #BA2121\">&quot;auto&quot;</span>)\n",
       "        T<span style=\"color: #AA22FF; font-weight: bold\">.</span>preflattened_buffer(compute_1, [n <span style=\"color: #AA22FF; font-weight: bold\">+</span> <span style=\"color: #008000\">2</span> <span style=\"color: #AA22FF; font-weight: bold\">*</span> p, m <span style=\"color: #AA22FF; font-weight: bold\">+</span> <span style=\"color: #008000\">2</span> <span style=\"color: #AA22FF; font-weight: bold\">*</span> p], dtype<span style=\"color: #AA22FF; font-weight: bold\">=</span><span style=\"color: #BA2121\">&quot;float32&quot;</span>, data<span style=\"color: #AA22FF; font-weight: bold\">=</span>compute_1<span style=\"color: #AA22FF; font-weight: bold\">.</span>data)\n",
       "        <span style=\"color: #007979; font-style: italic\"># body</span>\n",
       "        <span style=\"color: #008000; font-weight: bold\">for</span> i, j <span style=\"color: #008000; font-weight: bold\">in</span> T<span style=\"color: #AA22FF; font-weight: bold\">.</span>grid(p <span style=\"color: #AA22FF; font-weight: bold\">*</span> <span style=\"color: #008000\">2</span> <span style=\"color: #AA22FF; font-weight: bold\">+</span> n, p <span style=\"color: #AA22FF; font-weight: bold\">*</span> <span style=\"color: #008000\">2</span> <span style=\"color: #AA22FF; font-weight: bold\">+</span> m):\n",
       "            compute_1[i <span style=\"color: #AA22FF; font-weight: bold\">*</span> (p <span style=\"color: #AA22FF; font-weight: bold\">*</span> <span style=\"color: #008000\">2</span> <span style=\"color: #AA22FF; font-weight: bold\">+</span> m) <span style=\"color: #AA22FF; font-weight: bold\">+</span> j] <span style=\"color: #AA22FF; font-weight: bold\">=</span> T<span style=\"color: #AA22FF; font-weight: bold\">.</span>if_then_else(i <span style=\"color: #AA22FF; font-weight: bold\">&lt;</span> p <span style=\"color: #008000; font-weight: bold\">or</span> n <span style=\"color: #AA22FF; font-weight: bold\">+</span> p <span style=\"color: #AA22FF; font-weight: bold\">&lt;=</span> i <span style=\"color: #008000; font-weight: bold\">or</span> j <span style=\"color: #AA22FF; font-weight: bold\">&lt;</span> p <span style=\"color: #008000; font-weight: bold\">or</span> m <span style=\"color: #AA22FF; font-weight: bold\">+</span> p <span style=\"color: #AA22FF; font-weight: bold\">&lt;=</span> j, T<span style=\"color: #AA22FF; font-weight: bold\">.</span>float32(<span style=\"color: #008000\">0</span>), a_1[(i <span style=\"color: #AA22FF; font-weight: bold\">-</span> p) <span style=\"color: #AA22FF; font-weight: bold\">*</span> stride <span style=\"color: #AA22FF; font-weight: bold\">+</span> (j <span style=\"color: #AA22FF; font-weight: bold\">-</span> p) <span style=\"color: #AA22FF; font-weight: bold\">*</span> stride_1], dtype<span style=\"color: #AA22FF; font-weight: bold\">=</span><span style=\"color: #BA2121\">&quot;float32&quot;</span>)\n",
       "    \n",
       "</pre></div>\n"
      ],
      "text/plain": [
       "<IPython.core.display.HTML object>"
      ]
     },
     "metadata": {},
     "output_type": "display_data"
    }
   ],
   "source": [
    "n, m = te.var(name='n'), te.var(name='m')\n",
    "p = te.var(name='p')\n",
    "A = te.placeholder((n, m), dtype=dtype, name='a')\n",
    "B = te.compute((n + 2 * p, m + 2 * p), lambda i, j: te.if_then_else(\n",
    "        te.any(i < p, i >= n + p, j < p, j >= m + p), 0.0, A[i - p, j - p]))\n",
    "\n",
    "s = te.create_schedule(B.op)\n",
    "tvm.lower(s, [A, B]).show()"
   ]
  },
  {
   "cell_type": "code",
   "execution_count": 32,
   "id": "fa335cf0",
   "metadata": {},
   "outputs": [],
   "source": [
    "mod = tvm.build(s, [A, B, n, m, p])\n",
    "c = tvm.nd.array(np.empty([i + 2 * padding for i in shape], dtype=dtype))\n",
    "mod(tvm.nd.array(a), c, *shape, padding)\n",
    "np.testing.assert_equal(b, c.asnumpy())"
   ]
  },
  {
   "cell_type": "markdown",
   "id": "085d3de7",
   "metadata": {},
   "source": [
    "# Summary\n",
    "1.We can use tvm.any and tvm.all to construct complex conditional expressions"
   ]
  }
 ],
 "metadata": {
  "kernelspec": {
   "display_name": "Python 3 (ipykernel)",
   "language": "python",
   "name": "python3"
  },
  "language_info": {
   "codemirror_mode": {
    "name": "ipython",
    "version": 3
   },
   "file_extension": ".py",
   "mimetype": "text/x-python",
   "name": "python",
   "nbconvert_exporter": "python",
   "pygments_lexer": "ipython3",
   "version": "3.8.0"
  }
 },
 "nbformat": 4,
 "nbformat_minor": 5
}
