{
 "cells": [
  {
   "cell_type": "markdown",
   "id": "e2839bab",
   "metadata": {},
   "source": [
    "# Running on a Remote Machine"
   ]
  },
  {
   "cell_type": "code",
   "execution_count": null,
   "id": "68f08cf8",
   "metadata": {},
   "outputs": [],
   "source": [
    "# import package\n",
    "import d2ltvm"
   ]
  }
 ],
 "metadata": {
  "kernelspec": {
   "display_name": "Python 3 (ipykernel)",
   "language": "python",
   "name": "python3"
  },
  "language_info": {
   "codemirror_mode": {
    "name": "ipython",
    "version": 3
   },
   "file_extension": ".py",
   "mimetype": "text/x-python",
   "name": "python",
   "nbconvert_exporter": "python",
   "pygments_lexer": "ipython3",
   "version": "3.8.0"
  }
 },
 "nbformat": 4,
 "nbformat_minor": 5
}
