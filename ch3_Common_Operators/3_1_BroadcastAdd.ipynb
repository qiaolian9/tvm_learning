{
 "cells": [
  {
   "cell_type": "code",
   "execution_count": 1,
   "id": "3fa4d1cb",
   "metadata": {},
   "outputs": [
    {
     "name": "stdout",
     "output_type": "stream",
     "text": [
      "successd...\n",
      "\n"
     ]
    }
   ],
   "source": [
    "import d2ltvm\n",
    "import numpy as np\n",
    "import tvm\n",
    "from tvm import te"
   ]
  },
  {
   "cell_type": "code",
   "execution_count": 2,
   "id": "3631cc67",
   "metadata": {},
   "outputs": [],
   "source": [
    "def broadcast_add(shape1, shape2):\n",
    "    ''' broadcast add between two 2-dimensional tensors\n",
    "        shape1, shape2 : the shapes of the input tensors\n",
    "    '''\n",
    "    assert len(shape1) == 2 and len(shape2) == 2, \\\n",
    "        \"broadcast tensors should both be 2-dimension\"\n",
    "    for i in range(len(shape1)):\n",
    "        assert shape1[i] == shape2[i] or shape1[i] == 1 or shape2[i] == 1, \\\n",
    "            \"tensor shapes do not fit for broadcasting\"\n",
    "    A = te.placeholder(shape1, name='A')\n",
    "    B = te.placeholder(shape2, name='B')\n",
    "    m = shape1[0] if shape2[0] == 1 else shape2[0]\n",
    "    n = shape1[1] if shape2[1] == 1 else shape2[1]\n",
    "    f = lambda x, y: A[0 if shape1[0] == 1 else x, 0 if shape1[1] == 1 else y] + \\\n",
    "                B[0 if shape2[0] == 1 else x, 0 if shape2[1] == 1 else y]\n",
    "    C = te.compute((m, n), f, name='C')\n",
    "    return A, B, C"
   ]
  },
  {
   "cell_type": "code",
   "execution_count": 3,
   "id": "0807fbb8",
   "metadata": {},
   "outputs": [
    {
     "data": {
      "text/html": [
       "<div class=\"highlight\" style=\"background: \"><pre style=\"line-height: 125%;\"><span></span><span style=\"color: #007979; font-style: italic\"># from tvm.script import tir as T</span>\n",
       "<span style=\"color: #AA22FF\">@tvm</span><span style=\"color: #AA22FF; font-weight: bold\">.</span>script<span style=\"color: #AA22FF; font-weight: bold\">.</span>ir_module\n",
       "<span style=\"color: #008000; font-weight: bold\">class</span> <span style=\"color: #0000FF; font-weight: bold\">Module</span>:\n",
       "    <span style=\"color: #AA22FF\">@T</span><span style=\"color: #AA22FF; font-weight: bold\">.</span>prim_func\n",
       "    <span style=\"color: #008000; font-weight: bold\">def</span> <span style=\"color: #0000FF\">main</span>(A: T<span style=\"color: #AA22FF; font-weight: bold\">.</span>Buffer[<span style=\"color: #008000\">3</span>, <span style=\"color: #BA2121\">&quot;float32&quot;</span>], B: T<span style=\"color: #AA22FF; font-weight: bold\">.</span>Buffer[<span style=\"color: #008000\">12</span>, <span style=\"color: #BA2121\">&quot;float32&quot;</span>], C: T<span style=\"color: #AA22FF; font-weight: bold\">.</span>Buffer[<span style=\"color: #008000\">12</span>, <span style=\"color: #BA2121\">&quot;float32&quot;</span>]) <span style=\"color: #AA22FF; font-weight: bold\">-&gt;</span> <span style=\"color: #008000; font-weight: bold\">None</span>:\n",
       "        <span style=\"color: #007979; font-style: italic\"># function attr dict</span>\n",
       "        T<span style=\"color: #AA22FF; font-weight: bold\">.</span>func_attr({<span style=\"color: #BA2121\">&quot;from_legacy_te_schedule&quot;</span>: <span style=\"color: #008000; font-weight: bold\">True</span>, <span style=\"color: #BA2121\">&quot;global_symbol&quot;</span>: <span style=\"color: #BA2121\">&quot;main&quot;</span>, <span style=\"color: #BA2121\">&quot;tir.noalias&quot;</span>: <span style=\"color: #008000; font-weight: bold\">True</span>})\n",
       "        T<span style=\"color: #AA22FF; font-weight: bold\">.</span>preflattened_buffer(A, [<span style=\"color: #008000\">3</span>, <span style=\"color: #008000\">1</span>], dtype<span style=\"color: #AA22FF; font-weight: bold\">=</span><span style=\"color: #BA2121\">&quot;float32&quot;</span>, data<span style=\"color: #AA22FF; font-weight: bold\">=</span>A<span style=\"color: #AA22FF; font-weight: bold\">.</span>data)\n",
       "        T<span style=\"color: #AA22FF; font-weight: bold\">.</span>preflattened_buffer(B, [<span style=\"color: #008000\">3</span>, <span style=\"color: #008000\">4</span>], dtype<span style=\"color: #AA22FF; font-weight: bold\">=</span><span style=\"color: #BA2121\">&quot;float32&quot;</span>, data<span style=\"color: #AA22FF; font-weight: bold\">=</span>B<span style=\"color: #AA22FF; font-weight: bold\">.</span>data)\n",
       "        T<span style=\"color: #AA22FF; font-weight: bold\">.</span>preflattened_buffer(C, [<span style=\"color: #008000\">3</span>, <span style=\"color: #008000\">4</span>], dtype<span style=\"color: #AA22FF; font-weight: bold\">=</span><span style=\"color: #BA2121\">&quot;float32&quot;</span>, data<span style=\"color: #AA22FF; font-weight: bold\">=</span>C<span style=\"color: #AA22FF; font-weight: bold\">.</span>data)\n",
       "        <span style=\"color: #007979; font-style: italic\"># body</span>\n",
       "        <span style=\"color: #008000; font-weight: bold\">for</span> x, y <span style=\"color: #008000; font-weight: bold\">in</span> T<span style=\"color: #AA22FF; font-weight: bold\">.</span>grid(<span style=\"color: #008000\">3</span>, <span style=\"color: #008000\">4</span>):\n",
       "            cse_var_1: T<span style=\"color: #AA22FF; font-weight: bold\">.</span>int32 <span style=\"color: #AA22FF; font-weight: bold\">=</span> x <span style=\"color: #AA22FF; font-weight: bold\">*</span> <span style=\"color: #008000\">4</span> <span style=\"color: #AA22FF; font-weight: bold\">+</span> y\n",
       "            C[cse_var_1] <span style=\"color: #AA22FF; font-weight: bold\">=</span> A[x] <span style=\"color: #AA22FF; font-weight: bold\">+</span> B[cse_var_1]\n",
       "    \n",
       "</pre></div>\n"
      ],
      "text/plain": [
       "<IPython.core.display.HTML object>"
      ]
     },
     "metadata": {},
     "output_type": "display_data"
    }
   ],
   "source": [
    "m = 3\n",
    "n = 4\n",
    "shape1 = (m, 1)\n",
    "shape2 = (m, n)\n",
    "A, B, C = broadcast_add(shape1, shape2)\n",
    "s = te.create_schedule(C.op)\n",
    "tvm.lower(s, [A, B, C]).show()"
   ]
  },
  {
   "cell_type": "code",
   "execution_count": 4,
   "id": "158aba0a",
   "metadata": {},
   "outputs": [],
   "source": [
    "def get_broad_data(shape1, shape2, constructor=None):\n",
    "    \"\"\" Return random tensors a, b\n",
    "        and empty tensor c to store broadcast results between a and b\n",
    "        shape1, shape2: shapes of input tensors\n",
    "        constructor : user-defined tensor constructor\n",
    "    \"\"\"\n",
    "    np.random.seed(0)\n",
    "    a = np.random.normal(size=shape1).astype('float32')\n",
    "    b = np.random.normal(size=shape2).astype('float32')\n",
    "    out_shape = (shape1[0] if shape2[0] == 1 else shape2[0], \n",
    "                 shape1[1] if shape2[1] == 1 else shape2[1])\n",
    "    c = np.empty(shape=out_shape).astype('float32')\n",
    "    if constructor:\n",
    "        a, b, c = [constructor(i) for i in (a, b, c)]\n",
    "    return a, b, c\n",
    "\n",
    "a, b, c = get_broad_data(shape1, shape2, tvm.nd.array)\n",
    "mod = tvm.build(s, [A, B, C])\n",
    "mod(a, b, c)\n",
    "np.testing.assert_equal(a.asnumpy() + b.asnumpy(), c.asnumpy())"
   ]
  },
  {
   "cell_type": "code",
   "execution_count": 5,
   "id": "65ca94f7",
   "metadata": {},
   "outputs": [
    {
     "data": {
      "text/html": [
       "<div class=\"highlight\" style=\"background: \"><pre style=\"line-height: 125%;\"><span></span><span style=\"color: #007979; font-style: italic\"># from tvm.script import tir as T</span>\n",
       "<span style=\"color: #AA22FF\">@tvm</span><span style=\"color: #AA22FF; font-weight: bold\">.</span>script<span style=\"color: #AA22FF; font-weight: bold\">.</span>ir_module\n",
       "<span style=\"color: #008000; font-weight: bold\">class</span> <span style=\"color: #0000FF; font-weight: bold\">Module</span>:\n",
       "    <span style=\"color: #AA22FF\">@T</span><span style=\"color: #AA22FF; font-weight: bold\">.</span>prim_func\n",
       "    <span style=\"color: #008000; font-weight: bold\">def</span> <span style=\"color: #0000FF\">main</span>(A: T<span style=\"color: #AA22FF; font-weight: bold\">.</span>Buffer[<span style=\"color: #008000\">3</span>, <span style=\"color: #BA2121\">&quot;float32&quot;</span>], B: T<span style=\"color: #AA22FF; font-weight: bold\">.</span>Buffer[<span style=\"color: #008000\">4</span>, <span style=\"color: #BA2121\">&quot;float32&quot;</span>], C: T<span style=\"color: #AA22FF; font-weight: bold\">.</span>Buffer[<span style=\"color: #008000\">12</span>, <span style=\"color: #BA2121\">&quot;float32&quot;</span>]) <span style=\"color: #AA22FF; font-weight: bold\">-&gt;</span> <span style=\"color: #008000; font-weight: bold\">None</span>:\n",
       "        <span style=\"color: #007979; font-style: italic\"># function attr dict</span>\n",
       "        T<span style=\"color: #AA22FF; font-weight: bold\">.</span>func_attr({<span style=\"color: #BA2121\">&quot;from_legacy_te_schedule&quot;</span>: <span style=\"color: #008000; font-weight: bold\">True</span>, <span style=\"color: #BA2121\">&quot;global_symbol&quot;</span>: <span style=\"color: #BA2121\">&quot;main&quot;</span>, <span style=\"color: #BA2121\">&quot;tir.noalias&quot;</span>: <span style=\"color: #008000; font-weight: bold\">True</span>})\n",
       "        T<span style=\"color: #AA22FF; font-weight: bold\">.</span>preflattened_buffer(A, [<span style=\"color: #008000\">3</span>, <span style=\"color: #008000\">1</span>], dtype<span style=\"color: #AA22FF; font-weight: bold\">=</span><span style=\"color: #BA2121\">&quot;float32&quot;</span>, data<span style=\"color: #AA22FF; font-weight: bold\">=</span>A<span style=\"color: #AA22FF; font-weight: bold\">.</span>data)\n",
       "        T<span style=\"color: #AA22FF; font-weight: bold\">.</span>preflattened_buffer(B, [<span style=\"color: #008000\">1</span>, <span style=\"color: #008000\">4</span>], dtype<span style=\"color: #AA22FF; font-weight: bold\">=</span><span style=\"color: #BA2121\">&quot;float32&quot;</span>, data<span style=\"color: #AA22FF; font-weight: bold\">=</span>B<span style=\"color: #AA22FF; font-weight: bold\">.</span>data)\n",
       "        T<span style=\"color: #AA22FF; font-weight: bold\">.</span>preflattened_buffer(C, [<span style=\"color: #008000\">3</span>, <span style=\"color: #008000\">4</span>], dtype<span style=\"color: #AA22FF; font-weight: bold\">=</span><span style=\"color: #BA2121\">&quot;float32&quot;</span>, data<span style=\"color: #AA22FF; font-weight: bold\">=</span>C<span style=\"color: #AA22FF; font-weight: bold\">.</span>data)\n",
       "        <span style=\"color: #007979; font-style: italic\"># body</span>\n",
       "        <span style=\"color: #008000; font-weight: bold\">for</span> x, y <span style=\"color: #008000; font-weight: bold\">in</span> T<span style=\"color: #AA22FF; font-weight: bold\">.</span>grid(<span style=\"color: #008000\">3</span>, <span style=\"color: #008000\">4</span>):\n",
       "            C[x <span style=\"color: #AA22FF; font-weight: bold\">*</span> <span style=\"color: #008000\">4</span> <span style=\"color: #AA22FF; font-weight: bold\">+</span> y] <span style=\"color: #AA22FF; font-weight: bold\">=</span> A[x] <span style=\"color: #AA22FF; font-weight: bold\">+</span> B[y]\n",
       "    \n",
       "</pre></div>\n"
      ],
      "text/plain": [
       "<IPython.core.display.HTML object>"
      ]
     },
     "metadata": {},
     "output_type": "display_data"
    }
   ],
   "source": [
    "shape1 = (m, 1)\n",
    "shape2 = (1, n)\n",
    "A, B, C = broadcast_add(shape1, shape2)\n",
    "s = te.create_schedule(C.op)\n",
    "tvm.lower(s, [A, B, C]).show()"
   ]
  },
  {
   "cell_type": "code",
   "execution_count": 6,
   "id": "8ae7d1c8",
   "metadata": {},
   "outputs": [
    {
     "name": "stdout",
     "output_type": "stream",
     "text": [
      "(3, 1) (1, 4) (3, 4)\n"
     ]
    }
   ],
   "source": [
    "a, b, c = get_broad_data(shape1, shape2, tvm.nd.array)\n",
    "mod = tvm.build(s, [A, B, C])\n",
    "mod(a, b, c)\n",
    "np.testing.assert_equal(a.asnumpy() + b.asnumpy(), c.asnumpy())\n",
    "print(a.shape, b.shape, c.shape)"
   ]
  },
  {
   "cell_type": "markdown",
   "id": "f61da434",
   "metadata": {},
   "source": [
    "# Summary\n",
    "1.We can define a broadcast operator in TVM.\n",
    "\n",
    "2.Broadcast be can performed along multiple dimensions"
   ]
  }
 ],
 "metadata": {
  "kernelspec": {
   "display_name": "Python 3 (ipykernel)",
   "language": "python",
   "name": "python3"
  },
  "language_info": {
   "codemirror_mode": {
    "name": "ipython",
    "version": 3
   },
   "file_extension": ".py",
   "mimetype": "text/x-python",
   "name": "python",
   "nbconvert_exporter": "python",
   "pygments_lexer": "ipython3",
   "version": "3.8.0"
  }
 },
 "nbformat": 4,
 "nbformat_minor": 5
}
