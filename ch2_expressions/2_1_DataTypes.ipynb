{
 "cells": [
  {
   "cell_type": "markdown",
   "id": "c1c38361",
   "metadata": {},
   "source": [
    "# Specifying a Data Type"
   ]
  },
  {
   "cell_type": "code",
   "execution_count": 1,
   "id": "19a471b0",
   "metadata": {},
   "outputs": [
    {
     "name": "stdout",
     "output_type": "stream",
     "text": [
      "successd...\n",
      "\n",
      "['/staff/qiaoliang/ACSA科研项目/tvm_learning/ch2_expressions', '/staff/qiaoliang/ACSA科研项目/TVM/tvm/python', '/staff/qiaoliang/ACSA科研项目/tvm_learning/ch2_expressions', '/staff/qiaoliang/ACSA科研项目/tvm_learning', '/staff/qiaoliang/anaconda3/envs/tvm/lib/python38.zip', '/staff/qiaoliang/anaconda3/envs/tvm/lib/python3.8', '/staff/qiaoliang/anaconda3/envs/tvm/lib/python3.8/lib-dynload', '', '/staff/qiaoliang/anaconda3/envs/tvm/lib/python3.8/site-packages']\n",
      "expression dtype: int32 int32 int32\n"
     ]
    }
   ],
   "source": [
    "import d2ltvm\n",
    "import sys\n",
    "print(sys.path)\n",
    "import tvm\n",
    "from tvm import te\n",
    "import numpy as np\n",
    "\n",
    "n = 100\n",
    "def tvm_vector_add(dtype):\n",
    "    A = te.placeholder((n,), name='A', dtype=dtype)\n",
    "    B = te.placeholder((n,), name='B', dtype=dtype)\n",
    "    C = te.compute(A.shape, lambda i: A[i] + B[i])\n",
    "    print('expression dtype:',A.dtype, B.dtype, C.dtype)\n",
    "    s = te.create_schedule(C.op)\n",
    "    return tvm.build(s, [A, B, C])\n",
    "\n",
    "mod = tvm_vector_add('int32')"
   ]
  },
  {
   "cell_type": "code",
   "execution_count": 2,
   "id": "adfc7d02",
   "metadata": {},
   "outputs": [
    {
     "name": "stdout",
     "output_type": "stream",
     "text": [
      "tensor dtype: int32 int32 int32\n"
     ]
    }
   ],
   "source": [
    "def test_mod(mod, dtype):\n",
    "    a, b, c = d2ltvm.get_abc(n, lambda x: tvm.nd.array(x.astype(dtype)))\n",
    "    print(\"tensor dtype:\", a.dtype, b.dtype, c.dtype)\n",
    "    mod(a, b, c)\n",
    "    np.testing.assert_equal(c.asnumpy(), a.asnumpy() + b.asnumpy())\n",
    "\n",
    "test_mod(mod, 'int32')"
   ]
  },
  {
   "cell_type": "code",
   "execution_count": 3,
   "id": "07fc7c13",
   "metadata": {},
   "outputs": [
    {
     "name": "stdout",
     "output_type": "stream",
     "text": [
      "expression dtype: float16 float16 float16\n",
      "tensor dtype: float16 float16 float16\n",
      "expression dtype: float64 float64 float64\n",
      "tensor dtype: float64 float64 float64\n",
      "expression dtype: int8 int8 int8\n",
      "tensor dtype: int8 int8 int8\n",
      "expression dtype: int16 int16 int16\n",
      "tensor dtype: int16 int16 int16\n",
      "expression dtype: int64 int64 int64\n",
      "tensor dtype: int64 int64 int64\n"
     ]
    }
   ],
   "source": [
    "for i in ('float16', 'float64', 'int8', 'int16', 'int64'):\n",
    "    mod = tvm_vector_add(i)\n",
    "    test_mod(mod, i)"
   ]
  },
  {
   "cell_type": "markdown",
   "id": "4fccdd55",
   "metadata": {},
   "source": [
    "# Converting Elements Data Types"
   ]
  },
  {
   "cell_type": "code",
   "execution_count": 4,
   "id": "41543c08",
   "metadata": {},
   "outputs": [],
   "source": [
    "def tvm_vector_add_2(shape, dtype):\n",
    "    '''te.placeholder ---> astype(); tvm.nd.array --×-- astype()\n",
    "    '''\n",
    "    A = te.placeholder((n,), name='a')\n",
    "    B = te.placeholder((n,), name='b')\n",
    "    C = te.compute(A.shape, lambda i: A[i].astype(dtype) + B[i].astype(dtype))\n",
    "    print('expression type:', A.dtype, B.dtype, C.dtype)\n",
    "    s = te.create_schedule(C.op)\n",
    "    return tvm.build(s, [A, B, C])"
   ]
  },
  {
   "cell_type": "code",
   "execution_count": 5,
   "id": "af20f5d1",
   "metadata": {},
   "outputs": [
    {
     "name": "stdout",
     "output_type": "stream",
     "text": [
      "expression type: float32 float32 float16\n",
      "tensor dtype: float32 float32 float16\n",
      "expression type: float32 float32 float64\n",
      "tensor dtype: float32 float32 float64\n",
      "expression type: float32 float32 int8\n",
      "tensor dtype: float32 float32 int8\n",
      "expression type: float32 float32 int16\n",
      "tensor dtype: float32 float32 int16\n",
      "expression type: float32 float32 int64\n",
      "tensor dtype: float32 float32 int64\n"
     ]
    }
   ],
   "source": [
    "def test_mod_2(mod, dtype):\n",
    "    a, b, c = d2ltvm.get_abc(n)\n",
    "    a_tvm, b_tvm = tvm.nd.array(a), tvm.nd.array(b)\n",
    "    c_tvm = tvm.nd.array(c.astype(dtype))\n",
    "    print('tensor dtype:', a_tvm.dtype, b_tvm.dtype, c_tvm.dtype)\n",
    "    mod(a_tvm, b_tvm, c_tvm)\n",
    "    np.testing.assert_equal(c_tvm.asnumpy(), a.astype(dtype) + b.astype(dtype))\n",
    "\n",
    "for i in ('float16', 'float64', 'int8', 'int16', 'int64'):\n",
    "    mod = tvm_vector_add_2(n, i)\n",
    "    test_mod_2(mod, i)"
   ]
  },
  {
   "cell_type": "markdown",
   "id": "51cd53c3",
   "metadata": {},
   "source": [
    "# Summary\n",
    "1.We can specify the data type by dtype when creating TVM placeholders.(define placeholder)\n",
    "\n",
    "2.The data type of a tensor element can be cast by astype in TVM compute.(define compute op)"
   ]
  }
 ],
 "metadata": {
  "kernelspec": {
   "display_name": "Python 3 (ipykernel)",
   "language": "python",
   "name": "python3"
  },
  "language_info": {
   "codemirror_mode": {
    "name": "ipython",
    "version": 3
   },
   "file_extension": ".py",
   "mimetype": "text/x-python",
   "name": "python",
   "nbconvert_exporter": "python",
   "pygments_lexer": "ipython3",
   "version": "3.8.0"
  }
 },
 "nbformat": 4,
 "nbformat_minor": 5
}
