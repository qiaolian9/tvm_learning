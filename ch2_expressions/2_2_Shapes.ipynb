{
 "cells": [
  {
   "cell_type": "markdown",
   "id": "f7b3d84c",
   "metadata": {},
   "source": [
    "# Variable Shapes"
   ]
  },
  {
   "cell_type": "code",
   "execution_count": 2,
   "id": "65f87a1f",
   "metadata": {},
   "outputs": [
    {
     "name": "stdout",
     "output_type": "stream",
     "text": [
      "successd...\n",
      "\n",
      "n: int32\n"
     ]
    }
   ],
   "source": [
    "import d2ltvm\n",
    "import numpy as np\n",
    "import tvm\n",
    "from tvm import te\n",
    "\n",
    "n = te.var(name='n')\n",
    "type(n), n.dtype\n",
    "print(n)"
   ]
  },
  {
   "cell_type": "code",
   "execution_count": 12,
   "id": "3f8f98bb",
   "metadata": {},
   "outputs": [
    {
     "data": {
      "text/plain": [
       "#[version = \"0.0.5\"]\n",
       "@main = primfn(a_1: handle, b_1: handle, compute_1: handle) -> ()\n",
       "  attr = {\"from_legacy_te_schedule\": True, \"global_symbol\": \"main\", \"tir.noalias\": True}\n",
       "  buffers = {a: Buffer(a_2: Pointer(float32), float32, [(stride: int32*n: int32)], [], type=\"auto\"),\n",
       "             b: Buffer(b_2: Pointer(float32), float32, [(stride_1: int32*n)], [], type=\"auto\"),\n",
       "             compute: Buffer(compute_2: Pointer(float32), float32, [(stride_2: int32*n)], [], type=\"auto\")}\n",
       "  buffer_map = {a_1: a, b_1: b, compute_1: compute}\n",
       "  preflattened_buffer_map = {a_1: a_3: Buffer(a_2, float32, [n], [stride], type=\"auto\"), b_1: b_3: Buffer(b_2, float32, [n], [stride_1], type=\"auto\"), compute_1: compute_3: Buffer(compute_2, float32, [n], [stride_2], type=\"auto\")} {\n",
       "  for (i: int32, 0, n) {\n",
       "    compute[(i*stride_2)] = (a[(i*stride)] + b[(i*stride_1)])\n",
       "  }\n",
       "}\n",
       "\n",
       "#[metadata]\n",
       "{\n",
       "  \"root\": 1, \n",
       "  \"nodes\": [\n",
       "    {\n",
       "      \"type_key\": \"\"\n",
       "    }, \n",
       "    {\n",
       "      \"type_key\": \"Map\", \n",
       "      \"keys\": [\n",
       "        \"IntImm\"\n",
       "      ], \n",
       "      \"data\": [2]\n",
       "    }, \n",
       "    {\n",
       "      \"type_key\": \"Array\", \n",
       "      \"data\": [3, 4]\n",
       "    }, \n",
       "    {\n",
       "      \"type_key\": \"IntImm\", \n",
       "      \"attrs\": {\n",
       "        \"dtype\": \"bool\", \n",
       "        \"span\": \"0\", \n",
       "        \"value\": \"1\"\n",
       "      }\n",
       "    }, \n",
       "    {\n",
       "      \"type_key\": \"IntImm\", \n",
       "      \"attrs\": {\n",
       "        \"dtype\": \"bool\", \n",
       "        \"span\": \"0\", \n",
       "        \"value\": \"1\"\n",
       "      }\n",
       "    }\n",
       "  ], \n",
       "  \"b64ndarrays\": [], \n",
       "  \"attrs\": {\"tvm_version\": \"0.10.dev0\"}\n",
       "}"
      ]
     },
     "execution_count": 12,
     "metadata": {},
     "output_type": "execute_result"
    }
   ],
   "source": [
    "def vector_add_vs(n, dtype):\n",
    "    A = te.placeholder((n,), name='a', dtype=dtype)\n",
    "    B = te.placeholder((n,), name='b', dtype=dtype)\n",
    "    C = te.compute(A.shape, lambda i: A[i] + B[i])\n",
    "    s = te.create_schedule(C.op)\n",
    "    return s, A, B, C\n",
    "\n",
    "s, A, B, C = vector_add_vs(n, 'float32')\n",
    "tvm.lower(s, [A, B, C], simple_mode=True)"
   ]
  }
 ],
 "metadata": {
  "kernelspec": {
   "display_name": "Python 3 (ipykernel)",
   "language": "python",
   "name": "python3"
  },
  "language_info": {
   "codemirror_mode": {
    "name": "ipython",
    "version": 3
   },
   "file_extension": ".py",
   "mimetype": "text/x-python",
   "name": "python",
   "nbconvert_exporter": "python",
   "pygments_lexer": "ipython3",
   "version": "3.8.0"
  }
 },
 "nbformat": 4,
 "nbformat_minor": 5
}
