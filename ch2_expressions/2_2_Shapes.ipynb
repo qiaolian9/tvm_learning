{
 "cells": [
  {
   "cell_type": "markdown",
   "id": "57605e40",
   "metadata": {},
   "source": [
    "# Variable Shapes"
   ]
  },
  {
   "cell_type": "code",
   "execution_count": 2,
   "id": "fdef6b3e",
   "metadata": {},
   "outputs": [
    {
     "name": "stdout",
     "output_type": "stream",
     "text": [
      "successd...\n",
      "\n",
      "n: int32\n"
     ]
    }
   ],
   "source": [
    "import d2ltvm\n",
    "import numpy as np\n",
    "import tvm\n",
    "from tvm import te\n",
    "# te.var !!!\n",
    "n = te.var(name='n')\n",
    "type(n), n.dtype\n",
    "print(n)"
   ]
  },
  {
   "cell_type": "code",
   "execution_count": 13,
   "id": "4262acd2",
   "metadata": {},
   "outputs": [
    {
     "name": "stdout",
     "output_type": "stream",
     "text": [
      "@main = primfn(a_1: handle, b_1: handle, compute_1: handle) -> ()\n",
      "  attr = {\"from_legacy_te_schedule\": True, \"global_symbol\": \"main\", \"tir.noalias\": True}\n",
      "  buffers = {a: Buffer(a_2: Pointer(float32), float32, [(stride: int32*n: int32)], [], type=\"auto\"),\n",
      "             b: Buffer(b_2: Pointer(float32), float32, [(stride_1: int32*n)], [], type=\"auto\"),\n",
      "             compute: Buffer(compute_2: Pointer(float32), float32, [(stride_2: int32*n)], [], type=\"auto\")}\n",
      "  buffer_map = {a_1: a, b_1: b, compute_1: compute}\n",
      "  preflattened_buffer_map = {a_1: a_3: Buffer(a_2, float32, [n], [stride], type=\"auto\"), b_1: b_3: Buffer(b_2, float32, [n], [stride_1], type=\"auto\"), compute_1: compute_3: Buffer(compute_2, float32, [n], [stride_2], type=\"auto\")} {\n",
      "  for (i: int32, 0, n) {\n",
      "    compute[(i*stride_2)] = (a[(i*stride)] + b[(i*stride_1)])\n",
      "  }\n",
      "}\n",
      "\n",
      "\n"
     ]
    }
   ],
   "source": [
    "def vector_add_vs(n, dtype):\n",
    "    A = te.placeholder((n,), name='a', dtype=dtype)\n",
    "    B = te.placeholder((n,), name='b', dtype=dtype)\n",
    "    C = te.compute(A.shape, lambda i: A[i] + B[i])\n",
    "    s = te.create_schedule(C.op)\n",
    "    return s, A, B, C\n",
    "\n",
    "s, A, B, C = vector_add_vs(n, 'float32')\n",
    "print(tvm.lower(s, [A, B, C], simple_mode=True))"
   ]
  },
  {
   "cell_type": "code",
   "execution_count": 16,
   "id": "c415143f",
   "metadata": {},
   "outputs": [
    {
     "name": "stdout",
     "output_type": "stream",
     "text": [
      "c.shape: (100,)\n"
     ]
    }
   ],
   "source": [
    "def test_mod(mod, n, dtype):\n",
    "    '''n const value\n",
    "    '''\n",
    "    a, b, c = d2ltvm.get_abc(n, lambda x:tvm.nd.array(x.astype(dtype)))\n",
    "    mod(a, b, c)\n",
    "    print(\"c.shape:\", c.shape)\n",
    "    np.testing.assert_equal(c.asnumpy(), a.asnumpy() + b.asnumpy())\n",
    "    \n",
    "mod = tvm.build(s, [A, B, C])\n",
    "test_mod(mod, 100, 'float32')"
   ]
  },
  {
   "cell_type": "markdown",
   "id": "161bb9f7",
   "metadata": {},
   "source": [
    "# Multi-dimensional Shapes "
   ]
  },
  {
   "cell_type": "code",
   "execution_count": 27,
   "id": "c83ebff0",
   "metadata": {},
   "outputs": [],
   "source": [
    "def tvm_vector_add(ndims):\n",
    "    '''define input(placeholder) ---> define op(te.compute) ---> create_schedule ---> build(compiler to machine code)\n",
    "    '''\n",
    "    A = te.placeholder([te.var() for _ in range(ndims)], name='a')\n",
    "    B = te.placeholder(A.shape, name='b')\n",
    "    C = te.compute(A.shape, lambda *i: A[i] + B[i], name='c')\n",
    "    s = te.create_schedule(C.op)\n",
    "    return s, A, B, C\n"
   ]
  },
  {
   "cell_type": "code",
   "execution_count": 30,
   "id": "7c1bd5f5",
   "metadata": {},
   "outputs": [
    {
     "name": "stdout",
     "output_type": "stream",
     "text": [
      "c.shape: (3, 2)\n",
      "c.shape: (2, 3, 4, 5)\n"
     ]
    }
   ],
   "source": [
    "s, A, B, C = tvm_vector_add(2)\n",
    "mod = tvm.build(s, [A, B, C])\n",
    "test_mod(mod, (3,2), 'float32')\n",
    "\n",
    "s, A, B, C = tvm_vector_add(4)\n",
    "mod = tvm.build(s, [A, B, C])\n",
    "test_mod(mod,(2,3,4,5), 'float32')"
   ]
  },
  {
   "cell_type": "markdown",
   "id": "27711e64",
   "metadata": {},
   "source": [
    "# Summary\n",
    "1.We can use te.var() to specify the dimension(s) of a shape when we don’t know the concrete data shape before execution\n",
    "\n",
    "2.The shape of an n-dimensional tensor is presented as an n-length tuple"
   ]
  }
 ],
 "metadata": {
  "kernelspec": {
   "display_name": "Python 3 (ipykernel)",
   "language": "python",
   "name": "python3"
  },
  "language_info": {
   "codemirror_mode": {
    "name": "ipython",
    "version": 3
   },
   "file_extension": ".py",
   "mimetype": "text/x-python",
   "name": "python",
   "nbconvert_exporter": "python",
   "pygments_lexer": "ipython3",
   "version": "3.8.0"
  }
 },
 "nbformat": 4,
 "nbformat_minor": 5
}
